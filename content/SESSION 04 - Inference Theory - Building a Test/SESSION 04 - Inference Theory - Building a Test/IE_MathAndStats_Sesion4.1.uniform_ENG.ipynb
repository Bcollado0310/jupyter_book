{
 "cells": [
  {
   "cell_type": "markdown",
   "metadata": {},
   "source": [
    "# CURSO: Math & Stat\n",
    "\n",
    "<img src=\"img/profile_manoelgadi.png\" width=100 height=100 align=\"right\">\n",
    "\n",
    "Author: Prof. Manoel Gadi\n",
    "\n",
    "Contact: mfalonso@faculty.ie.edu\n",
    "\n",
    "LinkedIn: https://es.linkedin.com/in/manoel-gadi-97821213\n",
    "\n",
    "Last revision: 29/Nov/2022\n",
    "\n",
    "---\n",
    "\n",
    "\n",
    "# In-depth introduction to the P-value \n",
    "## goodness of fit - F-statistic for Linear Regression uniform distribution\n"
   ]
  },
  {
   "cell_type": "markdown",
   "metadata": {},
   "source": [
    "For this simulation we will:\n",
    "1. __Create a dataset__ with 5 variables and 100 data points generated randomly.\n",
    "All 5 independent variables will be scaled from 0 to 1 (variate). The dependent variable will also be scaled from 0 to 1.\n",
    "2. Next, we __fit a Linear Regression__ and measure the sum of squared errors.\n",
    "3. We will __repeat this a 1000 times__ and plot a histogram.\n",
    "4. Next, we will __load the hbat data, fit a Linear Regression__ using the same number of variables and rows (in statistical terms it means the same degrees of freedom) and calculate the sum of squared errors (SSE).\n",
    "5. Finally, __the p-value is the percentage of the random generated SSE (df_simulation) that are smaller than the one obtained by the hbat Linear Regression__. In this case you will see that it is 0%. Meaning that our model is better than 100% of the prediction made by a model generated in random sample with the same degree of freedom (variables and number of data points)"
   ]
  },
  {
   "cell_type": "code",
   "execution_count": 1,
   "metadata": {},
   "outputs": [],
   "source": [
    "import pandas as pd\n",
    "import numpy as np"
   ]
  },
  {
   "cell_type": "code",
   "execution_count": 2,
   "metadata": {},
   "outputs": [
    {
     "data": {
      "text/html": [
       "<div>\n",
       "<style scoped>\n",
       "    .dataframe tbody tr th:only-of-type {\n",
       "        vertical-align: middle;\n",
       "    }\n",
       "\n",
       "    .dataframe tbody tr th {\n",
       "        vertical-align: top;\n",
       "    }\n",
       "\n",
       "    .dataframe thead th {\n",
       "        text-align: right;\n",
       "    }\n",
       "</style>\n",
       "<table border=\"1\" class=\"dataframe\">\n",
       "  <thead>\n",
       "    <tr style=\"text-align: right;\">\n",
       "      <th></th>\n",
       "      <th>squared_error</th>\n",
       "    </tr>\n",
       "  </thead>\n",
       "  <tbody>\n",
       "  </tbody>\n",
       "</table>\n",
       "</div>"
      ],
      "text/plain": [
       "Empty DataFrame\n",
       "Columns: [squared_error]\n",
       "Index: []"
      ]
     },
     "execution_count": 2,
     "metadata": {},
     "output_type": "execute_result"
    }
   ],
   "source": [
    "df_simulation = pd.DataFrame()\n",
    "df_simulation['squared_error'] = []\n",
    "df_simulation"
   ]
  },
  {
   "cell_type": "markdown",
   "metadata": {},
   "source": [
    "### 1. Create a dataset with 5 variables and 100 data points generated randomly.\n"
   ]
  },
  {
   "cell_type": "markdown",
   "metadata": {},
   "source": [
    "* All 5 independent variables will be scaled from 0 to 1 (variate). The dependent variable will also be scaled from 0 to 1.\n"
   ]
  },
  {
   "cell_type": "code",
   "execution_count": 3,
   "metadata": {},
   "outputs": [],
   "source": [
    "df = pd.DataFrame()"
   ]
  },
  {
   "cell_type": "code",
   "execution_count": 4,
   "metadata": {},
   "outputs": [],
   "source": [
    "df['x1'] = np.random.random(100)\n",
    "df['x2'] = np.random.random(100)\n",
    "df['x3'] = np.random.random(100)\n",
    "df['x4'] = np.random.random(100)\n",
    "df['x5'] = np.random.random(100)\n",
    "df['y'] = np.random.random(100)"
   ]
  },
  {
   "cell_type": "code",
   "execution_count": 5,
   "metadata": {},
   "outputs": [
    {
     "data": {
      "text/html": [
       "<div>\n",
       "<style scoped>\n",
       "    .dataframe tbody tr th:only-of-type {\n",
       "        vertical-align: middle;\n",
       "    }\n",
       "\n",
       "    .dataframe tbody tr th {\n",
       "        vertical-align: top;\n",
       "    }\n",
       "\n",
       "    .dataframe thead th {\n",
       "        text-align: right;\n",
       "    }\n",
       "</style>\n",
       "<table border=\"1\" class=\"dataframe\">\n",
       "  <thead>\n",
       "    <tr style=\"text-align: right;\">\n",
       "      <th></th>\n",
       "      <th>x1</th>\n",
       "      <th>x2</th>\n",
       "      <th>x3</th>\n",
       "      <th>x4</th>\n",
       "      <th>x5</th>\n",
       "      <th>y</th>\n",
       "    </tr>\n",
       "  </thead>\n",
       "  <tbody>\n",
       "    <tr>\n",
       "      <th>0</th>\n",
       "      <td>0.167125</td>\n",
       "      <td>0.394675</td>\n",
       "      <td>0.157336</td>\n",
       "      <td>0.210070</td>\n",
       "      <td>0.720529</td>\n",
       "      <td>0.599868</td>\n",
       "    </tr>\n",
       "    <tr>\n",
       "      <th>1</th>\n",
       "      <td>0.211049</td>\n",
       "      <td>0.189863</td>\n",
       "      <td>0.418959</td>\n",
       "      <td>0.489916</td>\n",
       "      <td>0.203994</td>\n",
       "      <td>0.002954</td>\n",
       "    </tr>\n",
       "    <tr>\n",
       "      <th>2</th>\n",
       "      <td>0.061406</td>\n",
       "      <td>0.947606</td>\n",
       "      <td>0.253720</td>\n",
       "      <td>0.317389</td>\n",
       "      <td>0.556174</td>\n",
       "      <td>0.543506</td>\n",
       "    </tr>\n",
       "    <tr>\n",
       "      <th>3</th>\n",
       "      <td>0.676973</td>\n",
       "      <td>0.363516</td>\n",
       "      <td>0.355180</td>\n",
       "      <td>0.650929</td>\n",
       "      <td>0.802137</td>\n",
       "      <td>0.841095</td>\n",
       "    </tr>\n",
       "    <tr>\n",
       "      <th>4</th>\n",
       "      <td>0.193397</td>\n",
       "      <td>0.759451</td>\n",
       "      <td>0.398761</td>\n",
       "      <td>0.033879</td>\n",
       "      <td>0.028052</td>\n",
       "      <td>0.755011</td>\n",
       "    </tr>\n",
       "    <tr>\n",
       "      <th>...</th>\n",
       "      <td>...</td>\n",
       "      <td>...</td>\n",
       "      <td>...</td>\n",
       "      <td>...</td>\n",
       "      <td>...</td>\n",
       "      <td>...</td>\n",
       "    </tr>\n",
       "    <tr>\n",
       "      <th>95</th>\n",
       "      <td>0.197478</td>\n",
       "      <td>0.387111</td>\n",
       "      <td>0.328957</td>\n",
       "      <td>0.749312</td>\n",
       "      <td>0.745489</td>\n",
       "      <td>0.043671</td>\n",
       "    </tr>\n",
       "    <tr>\n",
       "      <th>96</th>\n",
       "      <td>0.178187</td>\n",
       "      <td>0.647299</td>\n",
       "      <td>0.489091</td>\n",
       "      <td>0.107912</td>\n",
       "      <td>0.795078</td>\n",
       "      <td>0.408914</td>\n",
       "    </tr>\n",
       "    <tr>\n",
       "      <th>97</th>\n",
       "      <td>0.212488</td>\n",
       "      <td>0.286812</td>\n",
       "      <td>0.221061</td>\n",
       "      <td>0.012459</td>\n",
       "      <td>0.747427</td>\n",
       "      <td>0.092324</td>\n",
       "    </tr>\n",
       "    <tr>\n",
       "      <th>98</th>\n",
       "      <td>0.953407</td>\n",
       "      <td>0.102180</td>\n",
       "      <td>0.217033</td>\n",
       "      <td>0.765520</td>\n",
       "      <td>0.625257</td>\n",
       "      <td>0.320578</td>\n",
       "    </tr>\n",
       "    <tr>\n",
       "      <th>99</th>\n",
       "      <td>0.188738</td>\n",
       "      <td>0.165966</td>\n",
       "      <td>0.187211</td>\n",
       "      <td>0.068678</td>\n",
       "      <td>0.522480</td>\n",
       "      <td>0.151077</td>\n",
       "    </tr>\n",
       "  </tbody>\n",
       "</table>\n",
       "<p>100 rows × 6 columns</p>\n",
       "</div>"
      ],
      "text/plain": [
       "          x1        x2        x3        x4        x5         y\n",
       "0   0.167125  0.394675  0.157336  0.210070  0.720529  0.599868\n",
       "1   0.211049  0.189863  0.418959  0.489916  0.203994  0.002954\n",
       "2   0.061406  0.947606  0.253720  0.317389  0.556174  0.543506\n",
       "3   0.676973  0.363516  0.355180  0.650929  0.802137  0.841095\n",
       "4   0.193397  0.759451  0.398761  0.033879  0.028052  0.755011\n",
       "..       ...       ...       ...       ...       ...       ...\n",
       "95  0.197478  0.387111  0.328957  0.749312  0.745489  0.043671\n",
       "96  0.178187  0.647299  0.489091  0.107912  0.795078  0.408914\n",
       "97  0.212488  0.286812  0.221061  0.012459  0.747427  0.092324\n",
       "98  0.953407  0.102180  0.217033  0.765520  0.625257  0.320578\n",
       "99  0.188738  0.165966  0.187211  0.068678  0.522480  0.151077\n",
       "\n",
       "[100 rows x 6 columns]"
      ]
     },
     "execution_count": 5,
     "metadata": {},
     "output_type": "execute_result"
    }
   ],
   "source": [
    "df"
   ]
  },
  {
   "cell_type": "markdown",
   "metadata": {},
   "source": [
    "### 2. Next, we __fit a Linear Regression__ and measure the sum of squared errors."
   ]
  },
  {
   "cell_type": "code",
   "execution_count": 6,
   "metadata": {},
   "outputs": [
    {
     "data": {
      "text/plain": [
       "2.027357286368841e-32"
      ]
     },
     "execution_count": 6,
     "metadata": {},
     "output_type": "execute_result"
    }
   ],
   "source": [
    "from sklearn.linear_model import LinearRegression\n",
    "model = LinearRegression()\n",
    "X = df.iloc[:,:-1]\n",
    "y = df.iloc[:,1]\n",
    "model.fit(X,y)\n",
    "yhat = model.predict(X)\n",
    "df['yhat'] = yhat\n",
    "from sklearn.metrics import mean_squared_error\n",
    "mean_squared_error(y,yhat)"
   ]
  },
  {
   "cell_type": "code",
   "execution_count": 7,
   "metadata": {},
   "outputs": [],
   "source": [
    "df['squared_error'] = (df['yhat']-df['y'])**2"
   ]
  },
  {
   "cell_type": "code",
   "execution_count": 8,
   "metadata": {},
   "outputs": [
    {
     "data": {
      "text/html": [
       "<div>\n",
       "<style scoped>\n",
       "    .dataframe tbody tr th:only-of-type {\n",
       "        vertical-align: middle;\n",
       "    }\n",
       "\n",
       "    .dataframe tbody tr th {\n",
       "        vertical-align: top;\n",
       "    }\n",
       "\n",
       "    .dataframe thead th {\n",
       "        text-align: right;\n",
       "    }\n",
       "</style>\n",
       "<table border=\"1\" class=\"dataframe\">\n",
       "  <thead>\n",
       "    <tr style=\"text-align: right;\">\n",
       "      <th></th>\n",
       "      <th>yhat</th>\n",
       "      <th>y</th>\n",
       "      <th>squared_error</th>\n",
       "    </tr>\n",
       "  </thead>\n",
       "  <tbody>\n",
       "    <tr>\n",
       "      <th>0</th>\n",
       "      <td>0.394675</td>\n",
       "      <td>0.599868</td>\n",
       "      <td>0.042105</td>\n",
       "    </tr>\n",
       "    <tr>\n",
       "      <th>1</th>\n",
       "      <td>0.189863</td>\n",
       "      <td>0.002954</td>\n",
       "      <td>0.034935</td>\n",
       "    </tr>\n",
       "    <tr>\n",
       "      <th>2</th>\n",
       "      <td>0.947606</td>\n",
       "      <td>0.543506</td>\n",
       "      <td>0.163297</td>\n",
       "    </tr>\n",
       "    <tr>\n",
       "      <th>3</th>\n",
       "      <td>0.363516</td>\n",
       "      <td>0.841095</td>\n",
       "      <td>0.228082</td>\n",
       "    </tr>\n",
       "    <tr>\n",
       "      <th>4</th>\n",
       "      <td>0.759451</td>\n",
       "      <td>0.755011</td>\n",
       "      <td>0.000020</td>\n",
       "    </tr>\n",
       "    <tr>\n",
       "      <th>...</th>\n",
       "      <td>...</td>\n",
       "      <td>...</td>\n",
       "      <td>...</td>\n",
       "    </tr>\n",
       "    <tr>\n",
       "      <th>95</th>\n",
       "      <td>0.387111</td>\n",
       "      <td>0.043671</td>\n",
       "      <td>0.117951</td>\n",
       "    </tr>\n",
       "    <tr>\n",
       "      <th>96</th>\n",
       "      <td>0.647299</td>\n",
       "      <td>0.408914</td>\n",
       "      <td>0.056828</td>\n",
       "    </tr>\n",
       "    <tr>\n",
       "      <th>97</th>\n",
       "      <td>0.286812</td>\n",
       "      <td>0.092324</td>\n",
       "      <td>0.037826</td>\n",
       "    </tr>\n",
       "    <tr>\n",
       "      <th>98</th>\n",
       "      <td>0.102180</td>\n",
       "      <td>0.320578</td>\n",
       "      <td>0.047698</td>\n",
       "    </tr>\n",
       "    <tr>\n",
       "      <th>99</th>\n",
       "      <td>0.165966</td>\n",
       "      <td>0.151077</td>\n",
       "      <td>0.000222</td>\n",
       "    </tr>\n",
       "  </tbody>\n",
       "</table>\n",
       "<p>100 rows × 3 columns</p>\n",
       "</div>"
      ],
      "text/plain": [
       "        yhat         y  squared_error\n",
       "0   0.394675  0.599868       0.042105\n",
       "1   0.189863  0.002954       0.034935\n",
       "2   0.947606  0.543506       0.163297\n",
       "3   0.363516  0.841095       0.228082\n",
       "4   0.759451  0.755011       0.000020\n",
       "..       ...       ...            ...\n",
       "95  0.387111  0.043671       0.117951\n",
       "96  0.647299  0.408914       0.056828\n",
       "97  0.286812  0.092324       0.037826\n",
       "98  0.102180  0.320578       0.047698\n",
       "99  0.165966  0.151077       0.000222\n",
       "\n",
       "[100 rows x 3 columns]"
      ]
     },
     "execution_count": 8,
     "metadata": {},
     "output_type": "execute_result"
    }
   ],
   "source": [
    "df[['yhat','y','squared_error']]"
   ]
  },
  {
   "cell_type": "code",
   "execution_count": 9,
   "metadata": {},
   "outputs": [],
   "source": [
    "df_simulation.loc[df_simulation.shape[0]] = [sum(df['squared_error'])]"
   ]
  },
  {
   "cell_type": "code",
   "execution_count": 10,
   "metadata": {},
   "outputs": [
    {
     "data": {
      "text/html": [
       "<div>\n",
       "<style scoped>\n",
       "    .dataframe tbody tr th:only-of-type {\n",
       "        vertical-align: middle;\n",
       "    }\n",
       "\n",
       "    .dataframe tbody tr th {\n",
       "        vertical-align: top;\n",
       "    }\n",
       "\n",
       "    .dataframe thead th {\n",
       "        text-align: right;\n",
       "    }\n",
       "</style>\n",
       "<table border=\"1\" class=\"dataframe\">\n",
       "  <thead>\n",
       "    <tr style=\"text-align: right;\">\n",
       "      <th></th>\n",
       "      <th>squared_error</th>\n",
       "    </tr>\n",
       "  </thead>\n",
       "  <tbody>\n",
       "    <tr>\n",
       "      <th>0</th>\n",
       "      <td>14.981729</td>\n",
       "    </tr>\n",
       "  </tbody>\n",
       "</table>\n",
       "</div>"
      ],
      "text/plain": [
       "   squared_error\n",
       "0      14.981729"
      ]
     },
     "execution_count": 10,
     "metadata": {},
     "output_type": "execute_result"
    }
   ],
   "source": [
    "df_simulation"
   ]
  },
  {
   "cell_type": "markdown",
   "metadata": {},
   "source": [
    "### 3. We will __repeat this a 1000 times__ and plot a histogram."
   ]
  },
  {
   "cell_type": "code",
   "execution_count": 11,
   "metadata": {},
   "outputs": [],
   "source": [
    "from sklearn.linear_model import LinearRegression\n",
    "for i in range(1000):\n",
    "    df = pd.DataFrame()\n",
    "    df['x1'] = np.random.random(100)\n",
    "    df['x2'] = np.random.random(100)\n",
    "    df['x3'] = np.random.random(100)\n",
    "    df['x4'] = np.random.random(100)\n",
    "    df['x5'] = np.random.random(100)\n",
    "    df['y'] = np.random.random(100)\n",
    "    model = LinearRegression()\n",
    "    X = df.iloc[:,:-1]\n",
    "    y = df.iloc[:,1]\n",
    "    model.fit(X,y)\n",
    "    yhat = model.predict(X)\n",
    "    df['yhat'] = yhat\n",
    "    df['squared_error'] = (df['yhat']-df['y'])**2\n",
    "    df_simulation.loc[df_simulation.shape[0]] = [sum(df['squared_error'])]"
   ]
  },
  {
   "cell_type": "code",
   "execution_count": 12,
   "metadata": {},
   "outputs": [
    {
     "data": {
      "text/html": [
       "<div>\n",
       "<style scoped>\n",
       "    .dataframe tbody tr th:only-of-type {\n",
       "        vertical-align: middle;\n",
       "    }\n",
       "\n",
       "    .dataframe tbody tr th {\n",
       "        vertical-align: top;\n",
       "    }\n",
       "\n",
       "    .dataframe thead th {\n",
       "        text-align: right;\n",
       "    }\n",
       "</style>\n",
       "<table border=\"1\" class=\"dataframe\">\n",
       "  <thead>\n",
       "    <tr style=\"text-align: right;\">\n",
       "      <th></th>\n",
       "      <th>squared_error</th>\n",
       "    </tr>\n",
       "  </thead>\n",
       "  <tbody>\n",
       "    <tr>\n",
       "      <th>0</th>\n",
       "      <td>14.981729</td>\n",
       "    </tr>\n",
       "    <tr>\n",
       "      <th>1</th>\n",
       "      <td>16.371754</td>\n",
       "    </tr>\n",
       "    <tr>\n",
       "      <th>2</th>\n",
       "      <td>17.733590</td>\n",
       "    </tr>\n",
       "    <tr>\n",
       "      <th>3</th>\n",
       "      <td>12.620741</td>\n",
       "    </tr>\n",
       "    <tr>\n",
       "      <th>4</th>\n",
       "      <td>13.377003</td>\n",
       "    </tr>\n",
       "    <tr>\n",
       "      <th>...</th>\n",
       "      <td>...</td>\n",
       "    </tr>\n",
       "    <tr>\n",
       "      <th>996</th>\n",
       "      <td>16.249109</td>\n",
       "    </tr>\n",
       "    <tr>\n",
       "      <th>997</th>\n",
       "      <td>15.335207</td>\n",
       "    </tr>\n",
       "    <tr>\n",
       "      <th>998</th>\n",
       "      <td>16.152051</td>\n",
       "    </tr>\n",
       "    <tr>\n",
       "      <th>999</th>\n",
       "      <td>16.232131</td>\n",
       "    </tr>\n",
       "    <tr>\n",
       "      <th>1000</th>\n",
       "      <td>21.854240</td>\n",
       "    </tr>\n",
       "  </tbody>\n",
       "</table>\n",
       "<p>1001 rows × 1 columns</p>\n",
       "</div>"
      ],
      "text/plain": [
       "      squared_error\n",
       "0         14.981729\n",
       "1         16.371754\n",
       "2         17.733590\n",
       "3         12.620741\n",
       "4         13.377003\n",
       "...             ...\n",
       "996       16.249109\n",
       "997       15.335207\n",
       "998       16.152051\n",
       "999       16.232131\n",
       "1000      21.854240\n",
       "\n",
       "[1001 rows x 1 columns]"
      ]
     },
     "execution_count": 12,
     "metadata": {},
     "output_type": "execute_result"
    }
   ],
   "source": [
    "df_simulation"
   ]
  },
  {
   "cell_type": "code",
   "execution_count": 13,
   "metadata": {},
   "outputs": [
    {
     "data": {
      "text/plain": [
       "array([[<AxesSubplot:title={'center':'squared_error'}>]], dtype=object)"
      ]
     },
     "execution_count": 13,
     "metadata": {},
     "output_type": "execute_result"
    },
    {
     "data": {
      "image/png": "[encoded data removed]",
      "text/plain": [
       "<Figure size 432x288 with 1 Axes>"
      ]
     },
     "metadata": {
      "needs_background": "light"
     },
     "output_type": "display_data"
    }
   ],
   "source": [
    "df_simulation.hist()"
   ]
  },
  {
   "cell_type": "code",
   "execution_count": 14,
   "metadata": {},
   "outputs": [
    {
     "data": {
      "text/plain": [
       "squared_error    13.435564\n",
       "Name: 0.05, dtype: float64"
      ]
     },
     "execution_count": 14,
     "metadata": {},
     "output_type": "execute_result"
    }
   ],
   "source": [
    "df_simulation.quantile(0.05)"
   ]
  },
  {
   "cell_type": "code",
   "execution_count": 15,
   "metadata": {},
   "outputs": [
    {
     "data": {
      "text/plain": [
       "squared_error    19.891353\n",
       "Name: 0.95, dtype: float64"
      ]
     },
     "execution_count": 15,
     "metadata": {},
     "output_type": "execute_result"
    }
   ],
   "source": [
    "df_simulation.quantile(0.95)"
   ]
  },
  {
   "cell_type": "markdown",
   "metadata": {},
   "source": [
    "### 4. Next, we will load the hbat data\n",
    "__Load the hbat data, fit a Linear Regression__ using the same number of variables and rows (in statistical terms it means the same degrees of freedom) and calculate the sum of squared errors (SSE).\n"
   ]
  },
  {
   "cell_type": "code",
   "execution_count": 17,
   "metadata": {},
   "outputs": [],
   "source": [
    "hbat = pd.read_spss(\"datasets/HBAT.sav\")"
   ]
  },
  {
   "cell_type": "code",
   "execution_count": 18,
   "metadata": {},
   "outputs": [
    {
     "data": {
      "text/html": [
       "<div>\n",
       "<style scoped>\n",
       "    .dataframe tbody tr th:only-of-type {\n",
       "        vertical-align: middle;\n",
       "    }\n",
       "\n",
       "    .dataframe tbody tr th {\n",
       "        vertical-align: top;\n",
       "    }\n",
       "\n",
       "    .dataframe thead th {\n",
       "        text-align: right;\n",
       "    }\n",
       "</style>\n",
       "<table border=\"1\" class=\"dataframe\">\n",
       "  <thead>\n",
       "    <tr style=\"text-align: right;\">\n",
       "      <th></th>\n",
       "      <th>id</th>\n",
       "      <th>x1</th>\n",
       "      <th>x2</th>\n",
       "      <th>x3</th>\n",
       "      <th>x4</th>\n",
       "      <th>x5</th>\n",
       "      <th>x6</th>\n",
       "      <th>x7</th>\n",
       "      <th>x8</th>\n",
       "      <th>x9</th>\n",
       "      <th>...</th>\n",
       "      <th>x14</th>\n",
       "      <th>x15</th>\n",
       "      <th>x16</th>\n",
       "      <th>x17</th>\n",
       "      <th>x18</th>\n",
       "      <th>x19</th>\n",
       "      <th>x20</th>\n",
       "      <th>x21</th>\n",
       "      <th>x22</th>\n",
       "      <th>x23</th>\n",
       "    </tr>\n",
       "  </thead>\n",
       "  <tbody>\n",
       "    <tr>\n",
       "      <th>0</th>\n",
       "      <td>1.0</td>\n",
       "      <td>1 to 5 years</td>\n",
       "      <td>Magazine industry</td>\n",
       "      <td>Large (500+)</td>\n",
       "      <td>Outside North America</td>\n",
       "      <td>Direct to customer</td>\n",
       "      <td>8.5</td>\n",
       "      <td>3.9</td>\n",
       "      <td>2.5</td>\n",
       "      <td>5.9</td>\n",
       "      <td>...</td>\n",
       "      <td>4.7</td>\n",
       "      <td>4.3</td>\n",
       "      <td>5.0</td>\n",
       "      <td>5.1</td>\n",
       "      <td>3.7</td>\n",
       "      <td>8.2</td>\n",
       "      <td>8.0</td>\n",
       "      <td>8.4</td>\n",
       "      <td>65.1</td>\n",
       "      <td>Yes, would consider</td>\n",
       "    </tr>\n",
       "    <tr>\n",
       "      <th>1</th>\n",
       "      <td>2.0</td>\n",
       "      <td>Over 5 years</td>\n",
       "      <td>Newsprint industry</td>\n",
       "      <td>Small (0 to 499)</td>\n",
       "      <td>USA/North America</td>\n",
       "      <td>Indirect through broker</td>\n",
       "      <td>8.2</td>\n",
       "      <td>2.7</td>\n",
       "      <td>5.1</td>\n",
       "      <td>7.2</td>\n",
       "      <td>...</td>\n",
       "      <td>5.5</td>\n",
       "      <td>4.0</td>\n",
       "      <td>3.9</td>\n",
       "      <td>4.3</td>\n",
       "      <td>4.9</td>\n",
       "      <td>5.7</td>\n",
       "      <td>6.5</td>\n",
       "      <td>7.5</td>\n",
       "      <td>67.1</td>\n",
       "      <td>No, would not consider</td>\n",
       "    </tr>\n",
       "    <tr>\n",
       "      <th>2</th>\n",
       "      <td>3.0</td>\n",
       "      <td>Over 5 years</td>\n",
       "      <td>Magazine industry</td>\n",
       "      <td>Large (500+)</td>\n",
       "      <td>Outside North America</td>\n",
       "      <td>Direct to customer</td>\n",
       "      <td>9.2</td>\n",
       "      <td>3.4</td>\n",
       "      <td>5.6</td>\n",
       "      <td>5.6</td>\n",
       "      <td>...</td>\n",
       "      <td>6.2</td>\n",
       "      <td>4.6</td>\n",
       "      <td>5.4</td>\n",
       "      <td>4.0</td>\n",
       "      <td>4.5</td>\n",
       "      <td>8.9</td>\n",
       "      <td>8.4</td>\n",
       "      <td>9.0</td>\n",
       "      <td>72.1</td>\n",
       "      <td>Yes, would consider</td>\n",
       "    </tr>\n",
       "    <tr>\n",
       "      <th>3</th>\n",
       "      <td>4.0</td>\n",
       "      <td>Less than 1 year</td>\n",
       "      <td>Newsprint industry</td>\n",
       "      <td>Large (500+)</td>\n",
       "      <td>Outside North America</td>\n",
       "      <td>Indirect through broker</td>\n",
       "      <td>6.4</td>\n",
       "      <td>3.3</td>\n",
       "      <td>7.0</td>\n",
       "      <td>3.7</td>\n",
       "      <td>...</td>\n",
       "      <td>7.0</td>\n",
       "      <td>3.6</td>\n",
       "      <td>4.3</td>\n",
       "      <td>4.1</td>\n",
       "      <td>3.0</td>\n",
       "      <td>4.8</td>\n",
       "      <td>6.0</td>\n",
       "      <td>7.2</td>\n",
       "      <td>40.1</td>\n",
       "      <td>No, would not consider</td>\n",
       "    </tr>\n",
       "    <tr>\n",
       "      <th>4</th>\n",
       "      <td>5.0</td>\n",
       "      <td>1 to 5 years</td>\n",
       "      <td>Magazine industry</td>\n",
       "      <td>Large (500+)</td>\n",
       "      <td>USA/North America</td>\n",
       "      <td>Direct to customer</td>\n",
       "      <td>9.0</td>\n",
       "      <td>3.4</td>\n",
       "      <td>5.2</td>\n",
       "      <td>4.6</td>\n",
       "      <td>...</td>\n",
       "      <td>6.1</td>\n",
       "      <td>4.5</td>\n",
       "      <td>4.5</td>\n",
       "      <td>3.5</td>\n",
       "      <td>3.5</td>\n",
       "      <td>7.1</td>\n",
       "      <td>6.6</td>\n",
       "      <td>9.0</td>\n",
       "      <td>57.1</td>\n",
       "      <td>No, would not consider</td>\n",
       "    </tr>\n",
       "    <tr>\n",
       "      <th>...</th>\n",
       "      <td>...</td>\n",
       "      <td>...</td>\n",
       "      <td>...</td>\n",
       "      <td>...</td>\n",
       "      <td>...</td>\n",
       "      <td>...</td>\n",
       "      <td>...</td>\n",
       "      <td>...</td>\n",
       "      <td>...</td>\n",
       "      <td>...</td>\n",
       "      <td>...</td>\n",
       "      <td>...</td>\n",
       "      <td>...</td>\n",
       "      <td>...</td>\n",
       "      <td>...</td>\n",
       "      <td>...</td>\n",
       "      <td>...</td>\n",
       "      <td>...</td>\n",
       "      <td>...</td>\n",
       "      <td>...</td>\n",
       "      <td>...</td>\n",
       "    </tr>\n",
       "    <tr>\n",
       "      <th>95</th>\n",
       "      <td>96.0</td>\n",
       "      <td>Less than 1 year</td>\n",
       "      <td>Newsprint industry</td>\n",
       "      <td>Small (0 to 499)</td>\n",
       "      <td>USA/North America</td>\n",
       "      <td>Direct to customer</td>\n",
       "      <td>8.6</td>\n",
       "      <td>4.8</td>\n",
       "      <td>5.6</td>\n",
       "      <td>5.3</td>\n",
       "      <td>...</td>\n",
       "      <td>5.8</td>\n",
       "      <td>3.6</td>\n",
       "      <td>4.9</td>\n",
       "      <td>3.6</td>\n",
       "      <td>3.6</td>\n",
       "      <td>7.3</td>\n",
       "      <td>8.1</td>\n",
       "      <td>8.1</td>\n",
       "      <td>50.1</td>\n",
       "      <td>Yes, would consider</td>\n",
       "    </tr>\n",
       "    <tr>\n",
       "      <th>96</th>\n",
       "      <td>97.0</td>\n",
       "      <td>Less than 1 year</td>\n",
       "      <td>Magazine industry</td>\n",
       "      <td>Small (0 to 499)</td>\n",
       "      <td>Outside North America</td>\n",
       "      <td>Direct to customer</td>\n",
       "      <td>7.4</td>\n",
       "      <td>3.4</td>\n",
       "      <td>2.6</td>\n",
       "      <td>5.0</td>\n",
       "      <td>...</td>\n",
       "      <td>4.5</td>\n",
       "      <td>6.4</td>\n",
       "      <td>4.2</td>\n",
       "      <td>5.6</td>\n",
       "      <td>3.7</td>\n",
       "      <td>6.3</td>\n",
       "      <td>5.5</td>\n",
       "      <td>7.2</td>\n",
       "      <td>48.1</td>\n",
       "      <td>No, would not consider</td>\n",
       "    </tr>\n",
       "    <tr>\n",
       "      <th>97</th>\n",
       "      <td>98.0</td>\n",
       "      <td>Less than 1 year</td>\n",
       "      <td>Magazine industry</td>\n",
       "      <td>Small (0 to 499)</td>\n",
       "      <td>USA/North America</td>\n",
       "      <td>Direct to customer</td>\n",
       "      <td>8.7</td>\n",
       "      <td>3.2</td>\n",
       "      <td>3.3</td>\n",
       "      <td>3.2</td>\n",
       "      <td>...</td>\n",
       "      <td>5.0</td>\n",
       "      <td>4.3</td>\n",
       "      <td>3.1</td>\n",
       "      <td>2.9</td>\n",
       "      <td>2.5</td>\n",
       "      <td>5.4</td>\n",
       "      <td>7.0</td>\n",
       "      <td>7.7</td>\n",
       "      <td>51.1</td>\n",
       "      <td>No, would not consider</td>\n",
       "    </tr>\n",
       "    <tr>\n",
       "      <th>98</th>\n",
       "      <td>99.0</td>\n",
       "      <td>1 to 5 years</td>\n",
       "      <td>Newsprint industry</td>\n",
       "      <td>Small (0 to 499)</td>\n",
       "      <td>Outside North America</td>\n",
       "      <td>Direct to customer</td>\n",
       "      <td>7.8</td>\n",
       "      <td>4.9</td>\n",
       "      <td>5.8</td>\n",
       "      <td>5.3</td>\n",
       "      <td>...</td>\n",
       "      <td>6.0</td>\n",
       "      <td>5.7</td>\n",
       "      <td>4.3</td>\n",
       "      <td>4.9</td>\n",
       "      <td>3.9</td>\n",
       "      <td>6.4</td>\n",
       "      <td>7.1</td>\n",
       "      <td>7.4</td>\n",
       "      <td>61.1</td>\n",
       "      <td>No, would not consider</td>\n",
       "    </tr>\n",
       "    <tr>\n",
       "      <th>99</th>\n",
       "      <td>100.0</td>\n",
       "      <td>1 to 5 years</td>\n",
       "      <td>Newsprint industry</td>\n",
       "      <td>Large (500+)</td>\n",
       "      <td>Outside North America</td>\n",
       "      <td>Indirect through broker</td>\n",
       "      <td>7.9</td>\n",
       "      <td>3.0</td>\n",
       "      <td>4.4</td>\n",
       "      <td>5.1</td>\n",
       "      <td>...</td>\n",
       "      <td>5.7</td>\n",
       "      <td>5.8</td>\n",
       "      <td>3.4</td>\n",
       "      <td>5.4</td>\n",
       "      <td>3.5</td>\n",
       "      <td>6.4</td>\n",
       "      <td>7.3</td>\n",
       "      <td>7.0</td>\n",
       "      <td>57.1</td>\n",
       "      <td>No, would not consider</td>\n",
       "    </tr>\n",
       "  </tbody>\n",
       "</table>\n",
       "<p>100 rows × 24 columns</p>\n",
       "</div>"
      ],
      "text/plain": [
       "       id                x1                  x2                x3  \\\n",
       "0     1.0      1 to 5 years   Magazine industry      Large (500+)   \n",
       "1     2.0      Over 5 years  Newsprint industry  Small (0 to 499)   \n",
       "2     3.0      Over 5 years   Magazine industry      Large (500+)   \n",
       "3     4.0  Less than 1 year  Newsprint industry      Large (500+)   \n",
       "4     5.0      1 to 5 years   Magazine industry      Large (500+)   \n",
       "..    ...               ...                 ...               ...   \n",
       "95   96.0  Less than 1 year  Newsprint industry  Small (0 to 499)   \n",
       "96   97.0  Less than 1 year   Magazine industry  Small (0 to 499)   \n",
       "97   98.0  Less than 1 year   Magazine industry  Small (0 to 499)   \n",
       "98   99.0      1 to 5 years  Newsprint industry  Small (0 to 499)   \n",
       "99  100.0      1 to 5 years  Newsprint industry      Large (500+)   \n",
       "\n",
       "                       x4                       x5   x6   x7   x8   x9  ...  \\\n",
       "0   Outside North America       Direct to customer  8.5  3.9  2.5  5.9  ...   \n",
       "1       USA/North America  Indirect through broker  8.2  2.7  5.1  7.2  ...   \n",
       "2   Outside North America       Direct to customer  9.2  3.4  5.6  5.6  ...   \n",
       "3   Outside North America  Indirect through broker  6.4  3.3  7.0  3.7  ...   \n",
       "4       USA/North America       Direct to customer  9.0  3.4  5.2  4.6  ...   \n",
       "..                    ...                      ...  ...  ...  ...  ...  ...   \n",
       "95      USA/North America       Direct to customer  8.6  4.8  5.6  5.3  ...   \n",
       "96  Outside North America       Direct to customer  7.4  3.4  2.6  5.0  ...   \n",
       "97      USA/North America       Direct to customer  8.7  3.2  3.3  3.2  ...   \n",
       "98  Outside North America       Direct to customer  7.8  4.9  5.8  5.3  ...   \n",
       "99  Outside North America  Indirect through broker  7.9  3.0  4.4  5.1  ...   \n",
       "\n",
       "    x14  x15  x16  x17  x18  x19  x20  x21   x22                     x23  \n",
       "0   4.7  4.3  5.0  5.1  3.7  8.2  8.0  8.4  65.1     Yes, would consider  \n",
       "1   5.5  4.0  3.9  4.3  4.9  5.7  6.5  7.5  67.1  No, would not consider  \n",
       "2   6.2  4.6  5.4  4.0  4.5  8.9  8.4  9.0  72.1     Yes, would consider  \n",
       "3   7.0  3.6  4.3  4.1  3.0  4.8  6.0  7.2  40.1  No, would not consider  \n",
       "4   6.1  4.5  4.5  3.5  3.5  7.1  6.6  9.0  57.1  No, would not consider  \n",
       "..  ...  ...  ...  ...  ...  ...  ...  ...   ...                     ...  \n",
       "95  5.8  3.6  4.9  3.6  3.6  7.3  8.1  8.1  50.1     Yes, would consider  \n",
       "96  4.5  6.4  4.2  5.6  3.7  6.3  5.5  7.2  48.1  No, would not consider  \n",
       "97  5.0  4.3  3.1  2.9  2.5  5.4  7.0  7.7  51.1  No, would not consider  \n",
       "98  6.0  5.7  4.3  4.9  3.9  6.4  7.1  7.4  61.1  No, would not consider  \n",
       "99  5.7  5.8  3.4  5.4  3.5  6.4  7.3  7.0  57.1  No, would not consider  \n",
       "\n",
       "[100 rows x 24 columns]"
      ]
     },
     "execution_count": 18,
     "metadata": {},
     "output_type": "execute_result"
    }
   ],
   "source": [
    "hbat"
   ]
  },
  {
   "cell_type": "code",
   "execution_count": 19,
   "metadata": {},
   "outputs": [],
   "source": [
    "from sklearn.preprocessing import MinMaxScaler\n",
    "scaler = MinMaxScaler()\n",
    "\n",
    "for var in ['x7','x8','x9','x10','x11','x19']:\n",
    "    hbat[var+\"_\"] = scaler.fit_transform(hbat[[var]])"
   ]
  },
  {
   "cell_type": "code",
   "execution_count": 20,
   "metadata": {},
   "outputs": [
    {
     "data": {
      "text/html": [
       "<div>\n",
       "<style scoped>\n",
       "    .dataframe tbody tr th:only-of-type {\n",
       "        vertical-align: middle;\n",
       "    }\n",
       "\n",
       "    .dataframe tbody tr th {\n",
       "        vertical-align: top;\n",
       "    }\n",
       "\n",
       "    .dataframe thead th {\n",
       "        text-align: right;\n",
       "    }\n",
       "</style>\n",
       "<table border=\"1\" class=\"dataframe\">\n",
       "  <thead>\n",
       "    <tr style=\"text-align: right;\">\n",
       "      <th></th>\n",
       "      <th>x7_</th>\n",
       "      <th>x8_</th>\n",
       "      <th>x9_</th>\n",
       "      <th>x10_</th>\n",
       "      <th>x11_</th>\n",
       "      <th>x19_</th>\n",
       "    </tr>\n",
       "  </thead>\n",
       "  <tbody>\n",
       "    <tr>\n",
       "      <th>0</th>\n",
       "      <td>0.485714</td>\n",
       "      <td>0.166667</td>\n",
       "      <td>0.634615</td>\n",
       "      <td>0.630435</td>\n",
       "      <td>0.426230</td>\n",
       "      <td>0.673077</td>\n",
       "    </tr>\n",
       "    <tr>\n",
       "      <th>1</th>\n",
       "      <td>0.142857</td>\n",
       "      <td>0.527778</td>\n",
       "      <td>0.884615</td>\n",
       "      <td>0.326087</td>\n",
       "      <td>0.918033</td>\n",
       "      <td>0.192308</td>\n",
       "    </tr>\n",
       "    <tr>\n",
       "      <th>2</th>\n",
       "      <td>0.342857</td>\n",
       "      <td>0.597222</td>\n",
       "      <td>0.576923</td>\n",
       "      <td>0.760870</td>\n",
       "      <td>0.836066</td>\n",
       "      <td>0.807692</td>\n",
       "    </tr>\n",
       "    <tr>\n",
       "      <th>3</th>\n",
       "      <td>0.314286</td>\n",
       "      <td>0.791667</td>\n",
       "      <td>0.211538</td>\n",
       "      <td>0.608696</td>\n",
       "      <td>0.393443</td>\n",
       "      <td>0.019231</td>\n",
       "    </tr>\n",
       "    <tr>\n",
       "      <th>4</th>\n",
       "      <td>0.342857</td>\n",
       "      <td>0.541667</td>\n",
       "      <td>0.384615</td>\n",
       "      <td>0.065217</td>\n",
       "      <td>0.606557</td>\n",
       "      <td>0.461538</td>\n",
       "    </tr>\n",
       "    <tr>\n",
       "      <th>...</th>\n",
       "      <td>...</td>\n",
       "      <td>...</td>\n",
       "      <td>...</td>\n",
       "      <td>...</td>\n",
       "      <td>...</td>\n",
       "      <td>...</td>\n",
       "    </tr>\n",
       "    <tr>\n",
       "      <th>95</th>\n",
       "      <td>0.742857</td>\n",
       "      <td>0.597222</td>\n",
       "      <td>0.519231</td>\n",
       "      <td>0.086957</td>\n",
       "      <td>0.606557</td>\n",
       "      <td>0.500000</td>\n",
       "    </tr>\n",
       "    <tr>\n",
       "      <th>96</th>\n",
       "      <td>0.342857</td>\n",
       "      <td>0.180556</td>\n",
       "      <td>0.461538</td>\n",
       "      <td>0.478261</td>\n",
       "      <td>0.344262</td>\n",
       "      <td>0.307692</td>\n",
       "    </tr>\n",
       "    <tr>\n",
       "      <th>97</th>\n",
       "      <td>0.285714</td>\n",
       "      <td>0.277778</td>\n",
       "      <td>0.115385</td>\n",
       "      <td>0.260870</td>\n",
       "      <td>0.622951</td>\n",
       "      <td>0.134615</td>\n",
       "    </tr>\n",
       "    <tr>\n",
       "      <th>98</th>\n",
       "      <td>0.771429</td>\n",
       "      <td>0.625000</td>\n",
       "      <td>0.519231</td>\n",
       "      <td>0.717391</td>\n",
       "      <td>0.491803</td>\n",
       "      <td>0.326923</td>\n",
       "    </tr>\n",
       "    <tr>\n",
       "      <th>99</th>\n",
       "      <td>0.228571</td>\n",
       "      <td>0.430556</td>\n",
       "      <td>0.480769</td>\n",
       "      <td>0.869565</td>\n",
       "      <td>0.311475</td>\n",
       "      <td>0.326923</td>\n",
       "    </tr>\n",
       "  </tbody>\n",
       "</table>\n",
       "<p>100 rows × 6 columns</p>\n",
       "</div>"
      ],
      "text/plain": [
       "         x7_       x8_       x9_      x10_      x11_      x19_\n",
       "0   0.485714  0.166667  0.634615  0.630435  0.426230  0.673077\n",
       "1   0.142857  0.527778  0.884615  0.326087  0.918033  0.192308\n",
       "2   0.342857  0.597222  0.576923  0.760870  0.836066  0.807692\n",
       "3   0.314286  0.791667  0.211538  0.608696  0.393443  0.019231\n",
       "4   0.342857  0.541667  0.384615  0.065217  0.606557  0.461538\n",
       "..       ...       ...       ...       ...       ...       ...\n",
       "95  0.742857  0.597222  0.519231  0.086957  0.606557  0.500000\n",
       "96  0.342857  0.180556  0.461538  0.478261  0.344262  0.307692\n",
       "97  0.285714  0.277778  0.115385  0.260870  0.622951  0.134615\n",
       "98  0.771429  0.625000  0.519231  0.717391  0.491803  0.326923\n",
       "99  0.228571  0.430556  0.480769  0.869565  0.311475  0.326923\n",
       "\n",
       "[100 rows x 6 columns]"
      ]
     },
     "execution_count": 20,
     "metadata": {},
     "output_type": "execute_result"
    }
   ],
   "source": [
    "hbat[['x7_','x8_','x9_','x10_','x11_','x19_']]"
   ]
  },
  {
   "cell_type": "code",
   "execution_count": 21,
   "metadata": {},
   "outputs": [],
   "source": [
    "from sklearn.linear_model import LinearRegression\n",
    "model = LinearRegression()\n",
    "X = hbat[['x7_','x8_','x9_','x10_','x11_']]\n",
    "y = hbat['x19_']\n",
    "model.fit(X,y)\n",
    "yhat = model.predict(X)\n",
    "hbat['x19_hat'] = yhat\n"
   ]
  },
  {
   "cell_type": "code",
   "execution_count": null,
   "metadata": {},
   "outputs": [],
   "source": []
  },
  {
   "cell_type": "code",
   "execution_count": 22,
   "metadata": {},
   "outputs": [],
   "source": [
    "hbat['squared_error'] = (hbat['x19_hat']-hbat['x19_'])**2"
   ]
  },
  {
   "cell_type": "code",
   "execution_count": 23,
   "metadata": {},
   "outputs": [
    {
     "data": {
      "text/html": [
       "<div>\n",
       "<style scoped>\n",
       "    .dataframe tbody tr th:only-of-type {\n",
       "        vertical-align: middle;\n",
       "    }\n",
       "\n",
       "    .dataframe tbody tr th {\n",
       "        vertical-align: top;\n",
       "    }\n",
       "\n",
       "    .dataframe thead th {\n",
       "        text-align: right;\n",
       "    }\n",
       "</style>\n",
       "<table border=\"1\" class=\"dataframe\">\n",
       "  <thead>\n",
       "    <tr style=\"text-align: right;\">\n",
       "      <th></th>\n",
       "      <th>x19_</th>\n",
       "      <th>x19_hat</th>\n",
       "      <th>squared_error</th>\n",
       "    </tr>\n",
       "  </thead>\n",
       "  <tbody>\n",
       "    <tr>\n",
       "      <th>0</th>\n",
       "      <td>0.673077</td>\n",
       "      <td>0.429323</td>\n",
       "      <td>0.059416</td>\n",
       "    </tr>\n",
       "    <tr>\n",
       "      <th>1</th>\n",
       "      <td>0.192308</td>\n",
       "      <td>0.593652</td>\n",
       "      <td>0.161077</td>\n",
       "    </tr>\n",
       "    <tr>\n",
       "      <th>2</th>\n",
       "      <td>0.807692</td>\n",
       "      <td>0.570379</td>\n",
       "      <td>0.056318</td>\n",
       "    </tr>\n",
       "    <tr>\n",
       "      <th>3</th>\n",
       "      <td>0.019231</td>\n",
       "      <td>0.249846</td>\n",
       "      <td>0.053183</td>\n",
       "    </tr>\n",
       "    <tr>\n",
       "      <th>4</th>\n",
       "      <td>0.461538</td>\n",
       "      <td>0.308012</td>\n",
       "      <td>0.023571</td>\n",
       "    </tr>\n",
       "    <tr>\n",
       "      <th>...</th>\n",
       "      <td>...</td>\n",
       "      <td>...</td>\n",
       "      <td>...</td>\n",
       "    </tr>\n",
       "    <tr>\n",
       "      <th>95</th>\n",
       "      <td>0.500000</td>\n",
       "      <td>0.441467</td>\n",
       "      <td>0.003426</td>\n",
       "    </tr>\n",
       "    <tr>\n",
       "      <th>96</th>\n",
       "      <td>0.307692</td>\n",
       "      <td>0.286487</td>\n",
       "      <td>0.000450</td>\n",
       "    </tr>\n",
       "    <tr>\n",
       "      <th>97</th>\n",
       "      <td>0.134615</td>\n",
       "      <td>0.238138</td>\n",
       "      <td>0.010717</td>\n",
       "    </tr>\n",
       "    <tr>\n",
       "      <th>98</th>\n",
       "      <td>0.326923</td>\n",
       "      <td>0.500147</td>\n",
       "      <td>0.030007</td>\n",
       "    </tr>\n",
       "    <tr>\n",
       "      <th>99</th>\n",
       "      <td>0.326923</td>\n",
       "      <td>0.321312</td>\n",
       "      <td>0.000031</td>\n",
       "    </tr>\n",
       "  </tbody>\n",
       "</table>\n",
       "<p>100 rows × 3 columns</p>\n",
       "</div>"
      ],
      "text/plain": [
       "        x19_   x19_hat  squared_error\n",
       "0   0.673077  0.429323       0.059416\n",
       "1   0.192308  0.593652       0.161077\n",
       "2   0.807692  0.570379       0.056318\n",
       "3   0.019231  0.249846       0.053183\n",
       "4   0.461538  0.308012       0.023571\n",
       "..       ...       ...            ...\n",
       "95  0.500000  0.441467       0.003426\n",
       "96  0.307692  0.286487       0.000450\n",
       "97  0.134615  0.238138       0.010717\n",
       "98  0.326923  0.500147       0.030007\n",
       "99  0.326923  0.321312       0.000031\n",
       "\n",
       "[100 rows x 3 columns]"
      ]
     },
     "execution_count": 23,
     "metadata": {},
     "output_type": "execute_result"
    }
   ],
   "source": [
    "hbat[['x19_','x19_hat','squared_error']]"
   ]
  },
  {
   "cell_type": "code",
   "execution_count": 24,
   "metadata": {},
   "outputs": [
    {
     "data": {
      "text/plain": [
       "2.5452446802832793"
      ]
     },
     "execution_count": 24,
     "metadata": {},
     "output_type": "execute_result"
    }
   ],
   "source": [
    "sum(hbat['squared_error'])"
   ]
  },
  {
   "cell_type": "markdown",
   "metadata": {},
   "source": [
    "### 5. Finally, the p-value\n",
    "__the p-value is the percentage of the random generated SSE (df_simulation) that are smaller than the one obtained by the hbat Linear Regression__. \n",
    "\n",
    "In this case you will see that it is 0%, meaning that our model is better than 100% of the prediction made by a model generated in random sample with the same degree of freedom (same number of variables and same number of data points)"
   ]
  },
  {
   "cell_type": "code",
   "execution_count": 25,
   "metadata": {},
   "outputs": [
    {
     "data": {
      "text/plain": [
       "array([[<AxesSubplot:title={'center':'squared_error'}>]], dtype=object)"
      ]
     },
     "execution_count": 25,
     "metadata": {},
     "output_type": "execute_result"
    },
    {
     "data": {
      "image/png": "[encoded data removed]",
      "text/plain": [
       "<Figure size 432x288 with 1 Axes>"
      ]
     },
     "metadata": {
      "needs_background": "light"
     },
     "output_type": "display_data"
    }
   ],
   "source": [
    "df_simulation.hist()"
   ]
  },
  {
   "cell_type": "code",
   "execution_count": 26,
   "metadata": {},
   "outputs": [
    {
     "data": {
      "text/plain": [
       "2.5452446802832793"
      ]
     },
     "execution_count": 26,
     "metadata": {},
     "output_type": "execute_result"
    }
   ],
   "source": [
    "sum(hbat['squared_error'])"
   ]
  },
  {
   "cell_type": "code",
   "execution_count": 27,
   "metadata": {},
   "outputs": [
    {
     "data": {
      "text/plain": [
       "0       False\n",
       "1       False\n",
       "2       False\n",
       "3       False\n",
       "4       False\n",
       "        ...  \n",
       "996     False\n",
       "997     False\n",
       "998     False\n",
       "999     False\n",
       "1000    False\n",
       "Name: squared_error, Length: 1001, dtype: bool"
      ]
     },
     "execution_count": 27,
     "metadata": {},
     "output_type": "execute_result"
    }
   ],
   "source": [
    "df_simulation['squared_error'] < sum(hbat['squared_error'])"
   ]
  },
  {
   "cell_type": "code",
   "execution_count": 28,
   "metadata": {},
   "outputs": [
    {
     "data": {
      "text/plain": [
       "0"
      ]
     },
     "execution_count": 28,
     "metadata": {},
     "output_type": "execute_result"
    }
   ],
   "source": [
    "sum(df_simulation['squared_error'] < sum(hbat['squared_error']))"
   ]
  },
  {
   "cell_type": "code",
   "execution_count": 29,
   "metadata": {},
   "outputs": [],
   "source": [
    "p_value = sum(df_simulation['squared_error'] < sum(hbat['squared_error']))/len(df_simulation)"
   ]
  },
  {
   "cell_type": "code",
   "execution_count": 30,
   "metadata": {},
   "outputs": [
    {
     "data": {
      "text/plain": [
       "0.0"
      ]
     },
     "execution_count": 30,
     "metadata": {},
     "output_type": "execute_result"
    }
   ],
   "source": [
    "p_value"
   ]
  },
  {
   "cell_type": "markdown",
   "metadata": {},
   "source": [
    "# To finish this, let's hear a song about p-value - about rare events ;-)\n",
    "\n",
    "---\n",
    "\n",
    "\n",
    "Let's here a song about p-value, actually about rare events:\n",
    "\n",
    "Alanis Morissette - Ironic: https://www.youtube.com/watch?v=Jne9t8sHpUc\n",
    "\n",
    "\n",
    "<a href=\"https://www.youtube.com/watch?v=Jne9t8sHpUc\" target=\"_blank\"> <img src=\"img/ironic_alanis_morissette.png\"> </a>\n",
    "\n"
   ]
  },
  {
   "cell_type": "code",
   "execution_count": null,
   "metadata": {},
   "outputs": [],
   "source": []
  },
  {
   "cell_type": "code",
   "execution_count": null,
   "metadata": {},
   "outputs": [],
   "source": []
  }
 ],
 "metadata": {
  "kernelspec": {
   "display_name": "Python 3 (ipykernel)",
   "language": "python",
   "name": "python3"
  },
  "language_info": {
   "codemirror_mode": {
    "name": "ipython",
    "version": 3
   },
   "file_extension": ".py",
   "mimetype": "text/x-python",
   "name": "python",
   "nbconvert_exporter": "python",
   "pygments_lexer": "ipython3",
   "version": "3.9.13"
  }
 },
 "nbformat": 4,
 "nbformat_minor": 4
}
