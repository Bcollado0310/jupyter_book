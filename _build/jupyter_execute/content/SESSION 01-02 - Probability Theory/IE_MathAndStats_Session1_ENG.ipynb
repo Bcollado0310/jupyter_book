{
 "cells": [
  {
   "cell_type": "markdown",
   "metadata": {},
   "source": [
    "# COURSE: Math & Stat"
   ]
  },
  {
   "cell_type": "markdown",
   "metadata": {},
   "source": [
    "<img src=\"img/profile_manoelgadi.png\" width=100 height=100 align=\"right\">\n",
    "\n",
    "Author: Prof. Manoel Gadi\n",
    "\n",
    "Contact: mfalonso@faculty.ie.edu\n",
    "\n",
    "LinkedIn: http://mfalonso.pythonanywhere.com\n",
    "\n",
    "Last revision: 11/Jan/2023"
   ]
  },
  {
   "cell_type": "markdown",
   "metadata": {},
   "source": [
    "---"
   ]
  },
  {
   "cell_type": "markdown",
   "metadata": {},
   "source": [
    "---"
   ]
  },
  {
   "cell_type": "markdown",
   "metadata": {},
   "source": [
    "# Session 1 - Descriptive Statistics\n",
    "\n",
    "Descriptive statistics is the process of describing the sample.\n",
    "To do this, measures of centrality, measures of dispersion, shape of the distribution and outliers are used.\n",
    "Visualizations can also be used to explore and make sense of the data.\n"
   ]
  },
  {
   "cell_type": "markdown",
   "metadata": {},
   "source": [
    "## Measures of central tendency"
   ]
  },
  {
   "cell_type": "markdown",
   "metadata": {},
   "source": [
    "### Mean (Arithmetic) - Arithmetic Mean\n",
    "\n",
    "The mean (or average) is the most popular and well-known measure of central tendency. It can be used with both discrete and continuous data, although it is most often used with continuous data. The mean is equal to the sum of all the values in the data set divided by the number of values in the data set. Thus, if we have n values in a data set and they have values x1, x2, ..., xn, the sample mean, usually denoted by (pronounced x-bar), is:\n",
    "\n",
    "\\begin{equation*}\n",
    "\\overline{x} =\n",
    "\\frac{( x_1 + x_2 + ... + x_n )} {N}\n",
    "\\end{equation*}\n",
    "\n",
    "This formula is usually written in a slightly different way using the Greek capital letter, pronounced \"sigma\", meaning \"sum of ...\":ç\n",
    "\n",
    "\\begin{equation*}\n",
    "\\overline{x} = \\frac{\\left( \\sum_{k=1}^n x_k \\right)} {N}\n",
    "\\end{equation*}\n",
    "\n",
    "You may have noticed that the above formula refers to the sample mean. So why have we called it the sample mean? This is because, in statistics, samples and populations have very different meanings and these differences are very important, even if, in the case of the mean, they are calculated in the same way. To recognize that we are calculating the population mean and not the sample mean, we use the Greek lowercase letter \"mu\", denoted as µ:\n",
    "\n",
    "\\begin{equation*}\n",
    "\\mu = \\frac{\\left( \\sum_{k=1}^n x_k \\right)} {N}\n",
    "\\end{equation*}"
   ]
  },
  {
   "cell_type": "markdown",
   "metadata": {},
   "source": [
    "Let's calculate an average using Python for the sample database anorexia.csv"
   ]
  },
  {
   "cell_type": "code",
   "execution_count": 1,
   "metadata": {},
   "outputs": [],
   "source": [
    "# import libraries numpy, pandas, and scipy.stats module\n",
    "import numpy as np\n",
    "import pandas as pd\n",
    "import scipy.stats as stats"
   ]
  },
  {
   "cell_type": "code",
   "execution_count": 2,
   "metadata": {},
   "outputs": [],
   "source": [
    "# import dataset using pd.read_csv() function\n",
    "df = pd.read_csv(\"datasets/anorexia.csv\")"
   ]
  },
  {
   "cell_type": "code",
   "execution_count": 3,
   "metadata": {},
   "outputs": [
    {
     "data": {
      "text/plain": [
       "Index(['ID', 'group', 'prewt', 'postwt', 'difwt'], dtype='object')"
      ]
     },
     "execution_count": 3,
     "metadata": {},
     "output_type": "execute_result"
    }
   ],
   "source": [
    "df.columns"
   ]
  },
  {
   "cell_type": "code",
   "execution_count": 4,
   "metadata": {},
   "outputs": [
    {
     "data": {
      "text/plain": [
       "82.40833333333333"
      ]
     },
     "execution_count": 4,
     "metadata": {},
     "output_type": "execute_result"
    }
   ],
   "source": [
    "df.prewt.mean()"
   ]
  },
  {
   "cell_type": "markdown",
   "metadata": {},
   "source": [
    "DISCUSSION QUESTION 1__: is the __average__ above from the __population__ or the __sample__?"
   ]
  },
  {
   "cell_type": "markdown",
   "metadata": {},
   "source": [
    "### [ Exercise 1]: Calculate the average for all variables."
   ]
  },
  {
   "cell_type": "code",
   "execution_count": 5,
   "metadata": {},
   "outputs": [
    {
     "data": {
      "text/plain": [
       "ID        197.736111\n",
       "group       1.833333\n",
       "prewt      82.408333\n",
       "postwt     85.172222\n",
       "difwt       2.763889\n",
       "dtype: float64"
      ]
     },
     "execution_count": 5,
     "metadata": {},
     "output_type": "execute_result"
    }
   ],
   "source": [
    "df.mean()"
   ]
  },
  {
   "cell_type": "markdown",
   "metadata": {},
   "source": [
    "### Median - Median\n",
    "\n",
    "The median is the mean score for a set of data that have been arranged in order of magnitude. The median is less affected by outliers and skewed values. To calculate the median, let's assume we have the data below:"
   ]
  },
  {
   "cell_type": "code",
   "execution_count": 6,
   "metadata": {},
   "outputs": [
    {
     "data": {
      "text/plain": [
       "[80.5, 80.7, 83.8, 84.9, 89.4, 83.3, 81.5, 91.8, 86.0, 82.6, 74.0]"
      ]
     },
     "execution_count": 6,
     "metadata": {},
     "output_type": "execute_result"
    }
   ],
   "source": [
    "list(df.prewt.head(11))"
   ]
  },
  {
   "cell_type": "markdown",
   "metadata": {},
   "source": [
    "First we need to rearrange these data in order of magnitude (smallest first):"
   ]
  },
  {
   "cell_type": "code",
   "execution_count": 7,
   "metadata": {},
   "outputs": [
    {
     "name": "stdout",
     "output_type": "stream",
     "text": [
      "[80.5, 80.7, 83.8, 84.9, 89.4, 83.3, 81.5, 91.8, 86.0, 82.6, 74.0]\n"
     ]
    }
   ],
   "source": [
    "a = list(df.prewt.head(11));print(a)"
   ]
  },
  {
   "cell_type": "code",
   "execution_count": 8,
   "metadata": {},
   "outputs": [
    {
     "name": "stdout",
     "output_type": "stream",
     "text": [
      "[74.0, 80.5, 80.7, 81.5, 82.6, 83.3, 83.8, 84.9, 86.0, 89.4, 91.8]\n"
     ]
    }
   ],
   "source": [
    "a.sort();print(a)"
   ]
  },
  {
   "cell_type": "markdown",
   "metadata": {},
   "source": [
    "Our median is the center value, in this case, 83.3. It is the center value because there are exactly 5 scores before and 5 scores after. "
   ]
  },
  {
   "cell_type": "code",
   "execution_count": 9,
   "metadata": {},
   "outputs": [
    {
     "data": {
      "text/plain": [
       "83.3"
      ]
     },
     "execution_count": 9,
     "metadata": {},
     "output_type": "execute_result"
    }
   ],
   "source": [
    "a[5]"
   ]
  },
  {
   "cell_type": "markdown",
   "metadata": {},
   "source": [
    "DISCUSSION QUESTION 2__: is the __median__ above from the __population__ or the __sample__?"
   ]
  },
  {
   "cell_type": "markdown",
   "metadata": {},
   "source": [
    "In numpy we can see that the median calculation works well and returns the same element."
   ]
  },
  {
   "cell_type": "code",
   "execution_count": 10,
   "metadata": {},
   "outputs": [
    {
     "name": "stdout",
     "output_type": "stream",
     "text": [
      "list of 11 elments =  [80.5, 80.7, 83.8, 84.9, 89.4, 83.3, 81.5, 91.8, 86.0, 82.6, 74.0]\n",
      "list of 11 elements SORTED =  [74.0, 80.5, 80.7, 81.5, 82.6, 83.3, 83.8, 84.9, 86.0, 89.4, 91.8]\n",
      "mediana =  83.3\n"
     ]
    }
   ],
   "source": [
    "a = list(df.prewt.head(11))\n",
    "print(\"list of 11 elments = \",a)\n",
    "a.sort()\n",
    "print(\"list of 11 elements SORTED = \",a)\n",
    "print(\"mediana = \",np.median(a))"
   ]
  },
  {
   "cell_type": "markdown",
   "metadata": {},
   "source": [
    "This works fine when we have an odd number of values, but what happens when you have an even number of values? What if you had only 10 scores? Well, you simply have to take the two average scores and average the result. So, if we look at the following example:"
   ]
  },
  {
   "cell_type": "code",
   "execution_count": 11,
   "metadata": {},
   "outputs": [
    {
     "name": "stdout",
     "output_type": "stream",
     "text": [
      "[80.5, 80.7, 83.8, 84.9, 89.4, 83.3, 81.5, 91.8, 86.0, 82.6]\n"
     ]
    }
   ],
   "source": [
    "a = list(df.prewt.head(10));print(a)"
   ]
  },
  {
   "cell_type": "code",
   "execution_count": 12,
   "metadata": {},
   "outputs": [
    {
     "name": "stdout",
     "output_type": "stream",
     "text": [
      "[80.5, 80.7, 81.5, 82.6, 83.3, 83.8, 84.9, 86.0, 89.4, 91.8]\n"
     ]
    }
   ],
   "source": [
    "a.sort();print(a)"
   ]
  },
  {
   "cell_type": "code",
   "execution_count": 13,
   "metadata": {},
   "outputs": [
    {
     "data": {
      "text/plain": [
       "83.55"
      ]
     },
     "execution_count": 13,
     "metadata": {},
     "output_type": "execute_result"
    }
   ],
   "source": [
    "(a[4] + a[5])/2"
   ]
  },
  {
   "cell_type": "markdown",
   "metadata": {},
   "source": [
    "In numpy we can see that the calculation also works in the same way when we have an even number of observations."
   ]
  },
  {
   "cell_type": "code",
   "execution_count": 14,
   "metadata": {},
   "outputs": [
    {
     "name": "stdout",
     "output_type": "stream",
     "text": [
      "list of 11 elments =  [80.5, 80.7, 83.8, 84.9, 89.4, 83.3, 81.5, 91.8, 86.0, 82.6]\n",
      "list of 11 elments SORTED =  [80.5, 80.7, 81.5, 82.6, 83.3, 83.8, 84.9, 86.0, 89.4, 91.8]\n",
      "mediana =  83.55\n"
     ]
    }
   ],
   "source": [
    "a = list(df.prewt.head(10))\n",
    "print(\"list of 11 elments = \",a)\n",
    "a.sort()\n",
    "print(\"list of 11 elments SORTED = \",a)\n",
    "print(\"mediana = \",np.median(a))"
   ]
  },
  {
   "cell_type": "markdown",
   "metadata": {},
   "source": [
    "### [ Exercise 2]: Calculate the median for all variables and for all data."
   ]
  },
  {
   "cell_type": "code",
   "execution_count": 15,
   "metadata": {},
   "outputs": [
    {
     "data": {
      "text/plain": [
       "ID        208.50\n",
       "group       2.00\n",
       "prewt      82.30\n",
       "postwt     84.05\n",
       "difwt       1.65\n",
       "dtype: float64"
      ]
     },
     "execution_count": 15,
     "metadata": {},
     "output_type": "execute_result"
    }
   ],
   "source": [
    "df.median()"
   ]
  },
  {
   "cell_type": "markdown",
   "metadata": {},
   "source": [
    "## Mode\n",
    "\n",
    "The mode is the most frequent value in our data set. The mode does not make much sense for continuous numeric values, it is used for categorical data where we want to know what the most common category is. In our example data we can look at the categorical field __group__."
   ]
  },
  {
   "cell_type": "code",
   "execution_count": 16,
   "metadata": {},
   "outputs": [
    {
     "data": {
      "text/plain": [
       "0     1\n",
       "1     2\n",
       "2     3\n",
       "3     1\n",
       "4     2\n",
       "     ..\n",
       "67    1\n",
       "68    2\n",
       "69    1\n",
       "70    1\n",
       "71    1\n",
       "Name: group, Length: 72, dtype: int64"
      ]
     },
     "execution_count": 16,
     "metadata": {},
     "output_type": "execute_result"
    }
   ],
   "source": [
    "df.group"
   ]
  },
  {
   "cell_type": "code",
   "execution_count": 17,
   "metadata": {
    "scrolled": true
   },
   "outputs": [
    {
     "data": {
      "text/html": [
       "<div>\n",
       "<style scoped>\n",
       "    .dataframe tbody tr th:only-of-type {\n",
       "        vertical-align: middle;\n",
       "    }\n",
       "\n",
       "    .dataframe tbody tr th {\n",
       "        vertical-align: top;\n",
       "    }\n",
       "\n",
       "    .dataframe thead th {\n",
       "        text-align: right;\n",
       "    }\n",
       "</style>\n",
       "<table border=\"1\" class=\"dataframe\">\n",
       "  <thead>\n",
       "    <tr style=\"text-align: right;\">\n",
       "      <th></th>\n",
       "      <th>0</th>\n",
       "      <th>1</th>\n",
       "      <th>2</th>\n",
       "      <th>3</th>\n",
       "      <th>4</th>\n",
       "      <th>5</th>\n",
       "      <th>6</th>\n",
       "      <th>7</th>\n",
       "      <th>8</th>\n",
       "      <th>9</th>\n",
       "      <th>...</th>\n",
       "      <th>62</th>\n",
       "      <th>63</th>\n",
       "      <th>64</th>\n",
       "      <th>65</th>\n",
       "      <th>66</th>\n",
       "      <th>67</th>\n",
       "      <th>68</th>\n",
       "      <th>69</th>\n",
       "      <th>70</th>\n",
       "      <th>71</th>\n",
       "    </tr>\n",
       "  </thead>\n",
       "  <tbody>\n",
       "    <tr>\n",
       "      <th>ID</th>\n",
       "      <td>101.0</td>\n",
       "      <td>102.0</td>\n",
       "      <td>103.0</td>\n",
       "      <td>104.0</td>\n",
       "      <td>105.0</td>\n",
       "      <td>106.0</td>\n",
       "      <td>107.0</td>\n",
       "      <td>108.0</td>\n",
       "      <td>109.0</td>\n",
       "      <td>110.0</td>\n",
       "      <td>...</td>\n",
       "      <td>308.0</td>\n",
       "      <td>309.0</td>\n",
       "      <td>310.0</td>\n",
       "      <td>311.0</td>\n",
       "      <td>312.0</td>\n",
       "      <td>313.0</td>\n",
       "      <td>314.0</td>\n",
       "      <td>315.0</td>\n",
       "      <td>316.0</td>\n",
       "      <td>317.0</td>\n",
       "    </tr>\n",
       "    <tr>\n",
       "      <th>group</th>\n",
       "      <td>1.0</td>\n",
       "      <td></td>\n",
       "      <td></td>\n",
       "      <td></td>\n",
       "      <td></td>\n",
       "      <td></td>\n",
       "      <td></td>\n",
       "      <td></td>\n",
       "      <td></td>\n",
       "      <td></td>\n",
       "      <td>...</td>\n",
       "      <td></td>\n",
       "      <td></td>\n",
       "      <td></td>\n",
       "      <td></td>\n",
       "      <td></td>\n",
       "      <td></td>\n",
       "      <td></td>\n",
       "      <td></td>\n",
       "      <td></td>\n",
       "      <td></td>\n",
       "    </tr>\n",
       "    <tr>\n",
       "      <th>prewt</th>\n",
       "      <td>80.5</td>\n",
       "      <td>83.3</td>\n",
       "      <td>86.0</td>\n",
       "      <td></td>\n",
       "      <td></td>\n",
       "      <td></td>\n",
       "      <td></td>\n",
       "      <td></td>\n",
       "      <td></td>\n",
       "      <td></td>\n",
       "      <td>...</td>\n",
       "      <td></td>\n",
       "      <td></td>\n",
       "      <td></td>\n",
       "      <td></td>\n",
       "      <td></td>\n",
       "      <td></td>\n",
       "      <td></td>\n",
       "      <td></td>\n",
       "      <td></td>\n",
       "      <td></td>\n",
       "    </tr>\n",
       "    <tr>\n",
       "      <th>postwt</th>\n",
       "      <td>81.4</td>\n",
       "      <td></td>\n",
       "      <td></td>\n",
       "      <td></td>\n",
       "      <td></td>\n",
       "      <td></td>\n",
       "      <td></td>\n",
       "      <td></td>\n",
       "      <td></td>\n",
       "      <td></td>\n",
       "      <td>...</td>\n",
       "      <td></td>\n",
       "      <td></td>\n",
       "      <td></td>\n",
       "      <td></td>\n",
       "      <td></td>\n",
       "      <td></td>\n",
       "      <td></td>\n",
       "      <td></td>\n",
       "      <td></td>\n",
       "      <td></td>\n",
       "    </tr>\n",
       "    <tr>\n",
       "      <th>difwt</th>\n",
       "      <td>-10.2</td>\n",
       "      <td>-0.7</td>\n",
       "      <td>-0.1</td>\n",
       "      <td>3.9</td>\n",
       "      <td></td>\n",
       "      <td></td>\n",
       "      <td></td>\n",
       "      <td></td>\n",
       "      <td></td>\n",
       "      <td></td>\n",
       "      <td>...</td>\n",
       "      <td></td>\n",
       "      <td></td>\n",
       "      <td></td>\n",
       "      <td></td>\n",
       "      <td></td>\n",
       "      <td></td>\n",
       "      <td></td>\n",
       "      <td></td>\n",
       "      <td></td>\n",
       "      <td></td>\n",
       "    </tr>\n",
       "  </tbody>\n",
       "</table>\n",
       "<p>5 rows × 72 columns</p>\n",
       "</div>"
      ],
      "text/plain": [
       "           0      1      2      3      4      5      6      7      8      9   \\\n",
       "ID      101.0  102.0  103.0  104.0  105.0  106.0  107.0  108.0  109.0  110.0   \n",
       "group     1.0                                                                  \n",
       "prewt    80.5   83.3   86.0                                                    \n",
       "postwt   81.4                                                                  \n",
       "difwt   -10.2   -0.7   -0.1    3.9                                             \n",
       "\n",
       "        ...     62     63     64     65     66     67     68     69     70  \\\n",
       "ID      ...  308.0  309.0  310.0  311.0  312.0  313.0  314.0  315.0  316.0   \n",
       "group   ...                                                                  \n",
       "prewt   ...                                                                  \n",
       "postwt  ...                                                                  \n",
       "difwt   ...                                                                  \n",
       "\n",
       "           71  \n",
       "ID      317.0  \n",
       "group          \n",
       "prewt          \n",
       "postwt         \n",
       "difwt          \n",
       "\n",
       "[5 rows x 72 columns]"
      ]
     },
     "execution_count": 17,
     "metadata": {},
     "output_type": "execute_result"
    }
   ],
   "source": [
    "df.mode().T.replace(np.nan,\"\") #abajo se pude ver que aplicar mode al dataframe genera resultados sin sentido"
   ]
  },
  {
   "cell_type": "code",
   "execution_count": 18,
   "metadata": {},
   "outputs": [
    {
     "data": {
      "text/plain": [
       "<Axes: xlabel='group'>"
      ]
     },
     "execution_count": 18,
     "metadata": {},
     "output_type": "execute_result"
    },
    {
     "data": {
      "image/png": "[encoded data removed]",
      "text/plain": [
       "<Figure size 640x480 with 1 Axes>"
      ]
     },
     "metadata": {},
     "output_type": "display_data"
    }
   ],
   "source": [
    "df.group.value_counts(normalize = True).plot.bar() #we use the normalize = true to have it as a percentage"
   ]
  },
  {
   "cell_type": "markdown",
   "metadata": {},
   "source": [
    "Now, to further analyze mode, we need to understand a little more of our database and mainly the __group__ column. According to https://stat.ethz.ch/R-manual/R-devel/library/MASS/html/anorexia.html, our database anorexia.csv weight change data for young female anorexia patients.\n",
    "\n",
    "Being that the treatment (column: group) contains:\n",
    "* Group 1: Individual cognitive behavioral therapy.\n",
    "* Group 2: Control group\n",
    "* Group 3: Family therapy.\n",
    "\n",
    "\n",
    "The column Prewt\n",
    "\n",
    "     Indicates the patient's weight before the study period, in pounds.\n",
    "\n",
    "Postwt\n",
    "\n",
    "     Indicates the patient's weight after the study period, in pounds."
   ]
  },
  {
   "cell_type": "markdown",
   "metadata": {},
   "source": [
    "To calculate the mode in numpy/pandas, we do it with .mode()"
   ]
  },
  {
   "cell_type": "code",
   "execution_count": 19,
   "metadata": {},
   "outputs": [
    {
     "data": {
      "text/plain": [
       "0    1\n",
       "Name: group, dtype: int64"
      ]
     },
     "execution_count": 19,
     "metadata": {},
     "output_type": "execute_result"
    }
   ],
   "source": [
    "df.group.mode()"
   ]
  },
  {
   "cell_type": "markdown",
   "metadata": {},
   "source": [
    "__DISCUSSION QUESTION 3__: What does the above result mean?"
   ]
  },
  {
   "cell_type": "markdown",
   "metadata": {},
   "source": [
    "---"
   ]
  },
  {
   "cell_type": "markdown",
   "metadata": {},
   "source": [
    "It ends up being easier to see this result if, instead of using the mode, we directly draw a table of occurrences of the groups and a histogram."
   ]
  },
  {
   "cell_type": "code",
   "execution_count": 20,
   "metadata": {},
   "outputs": [
    {
     "data": {
      "text/html": [
       "<div>\n",
       "<style scoped>\n",
       "    .dataframe tbody tr th:only-of-type {\n",
       "        vertical-align: middle;\n",
       "    }\n",
       "\n",
       "    .dataframe tbody tr th {\n",
       "        vertical-align: top;\n",
       "    }\n",
       "\n",
       "    .dataframe thead th {\n",
       "        text-align: right;\n",
       "    }\n",
       "</style>\n",
       "<table border=\"1\" class=\"dataframe\">\n",
       "  <thead>\n",
       "    <tr style=\"text-align: right;\">\n",
       "      <th></th>\n",
       "      <th>ID</th>\n",
       "    </tr>\n",
       "    <tr>\n",
       "      <th>group</th>\n",
       "      <th></th>\n",
       "    </tr>\n",
       "  </thead>\n",
       "  <tbody>\n",
       "    <tr>\n",
       "      <th>1</th>\n",
       "      <td>29</td>\n",
       "    </tr>\n",
       "    <tr>\n",
       "      <th>2</th>\n",
       "      <td>26</td>\n",
       "    </tr>\n",
       "    <tr>\n",
       "      <th>3</th>\n",
       "      <td>17</td>\n",
       "    </tr>\n",
       "  </tbody>\n",
       "</table>\n",
       "</div>"
      ],
      "text/plain": [
       "       ID\n",
       "group    \n",
       "1      29\n",
       "2      26\n",
       "3      17"
      ]
     },
     "execution_count": 20,
     "metadata": {},
     "output_type": "execute_result"
    }
   ],
   "source": [
    "df[['group','ID']].groupby(['group']).count()"
   ]
  },
  {
   "cell_type": "code",
   "execution_count": 21,
   "metadata": {},
   "outputs": [
    {
     "data": {
      "text/plain": [
       "array([[<Axes: title={'center': 'group'}>]], dtype=object)"
      ]
     },
     "execution_count": 21,
     "metadata": {},
     "output_type": "execute_result"
    },
    {
     "data": {
      "image/png": "[encoded data removed]",
      "text/plain": [
       "<Figure size 640x480 with 1 Axes>"
      ]
     },
     "metadata": {},
     "output_type": "display_data"
    }
   ],
   "source": [
    "df.hist(column='group')"
   ]
  },
  {
   "cell_type": "markdown",
   "metadata": {},
   "source": [
    "So it looks better that group 1 has more cases, followed by group 2 and then group 3, right?"
   ]
  },
  {
   "cell_type": "markdown",
   "metadata": {},
   "source": [
    "---"
   ]
  },
  {
   "cell_type": "markdown",
   "metadata": {},
   "source": [
    "__DISCUSSION QUESTION 4__: What information can we take from the mean, median and mode below?"
   ]
  },
  {
   "cell_type": "code",
   "execution_count": 22,
   "metadata": {},
   "outputs": [
    {
     "data": {
      "text/plain": [
       "ID        197.736111\n",
       "group       1.833333\n",
       "prewt      82.408333\n",
       "postwt     85.172222\n",
       "difwt       2.763889\n",
       "dtype: float64"
      ]
     },
     "execution_count": 22,
     "metadata": {},
     "output_type": "execute_result"
    }
   ],
   "source": [
    "df.mean()"
   ]
  },
  {
   "cell_type": "code",
   "execution_count": 23,
   "metadata": {},
   "outputs": [
    {
     "data": {
      "text/plain": [
       "ID        208.50\n",
       "group       2.00\n",
       "prewt      82.30\n",
       "postwt     84.05\n",
       "difwt       1.65\n",
       "dtype: float64"
      ]
     },
     "execution_count": 23,
     "metadata": {},
     "output_type": "execute_result"
    }
   ],
   "source": [
    "df.median()"
   ]
  },
  {
   "cell_type": "code",
   "execution_count": 24,
   "metadata": {},
   "outputs": [
    {
     "data": {
      "text/plain": [
       "0    1\n",
       "Name: group, dtype: int64"
      ]
     },
     "execution_count": 24,
     "metadata": {},
     "output_type": "execute_result"
    }
   ],
   "source": [
    "df.group.mode()"
   ]
  },
  {
   "cell_type": "markdown",
   "metadata": {},
   "source": [
    "---"
   ]
  },
  {
   "cell_type": "markdown",
   "metadata": {},
   "source": [
    "In isolation these metrics say little about our data, but if we apply these metrics to groups 1, 2 and 3 our analysis starts to get interesting."
   ]
  },
  {
   "cell_type": "code",
   "execution_count": 25,
   "metadata": {},
   "outputs": [
    {
     "data": {
      "text/html": [
       "<div>\n",
       "<style scoped>\n",
       "    .dataframe tbody tr th:only-of-type {\n",
       "        vertical-align: middle;\n",
       "    }\n",
       "\n",
       "    .dataframe tbody tr th {\n",
       "        vertical-align: top;\n",
       "    }\n",
       "\n",
       "    .dataframe thead th {\n",
       "        text-align: right;\n",
       "    }\n",
       "</style>\n",
       "<table border=\"1\" class=\"dataframe\">\n",
       "  <thead>\n",
       "    <tr style=\"text-align: right;\">\n",
       "      <th></th>\n",
       "      <th>ID</th>\n",
       "      <th>prewt</th>\n",
       "      <th>postwt</th>\n",
       "      <th>difwt</th>\n",
       "    </tr>\n",
       "    <tr>\n",
       "      <th>group</th>\n",
       "      <th></th>\n",
       "      <th></th>\n",
       "      <th></th>\n",
       "      <th></th>\n",
       "    </tr>\n",
       "  </thead>\n",
       "  <tbody>\n",
       "    <tr>\n",
       "      <th>1</th>\n",
       "      <td>118.37931</td>\n",
       "      <td>82.689655</td>\n",
       "      <td>85.696552</td>\n",
       "      <td>3.006897</td>\n",
       "    </tr>\n",
       "    <tr>\n",
       "      <th>2</th>\n",
       "      <td>213.50000</td>\n",
       "      <td>81.557692</td>\n",
       "      <td>81.107692</td>\n",
       "      <td>-0.450000</td>\n",
       "    </tr>\n",
       "    <tr>\n",
       "      <th>3</th>\n",
       "      <td>309.00000</td>\n",
       "      <td>83.229412</td>\n",
       "      <td>90.494118</td>\n",
       "      <td>7.264706</td>\n",
       "    </tr>\n",
       "  </tbody>\n",
       "</table>\n",
       "</div>"
      ],
      "text/plain": [
       "              ID      prewt     postwt     difwt\n",
       "group                                           \n",
       "1      118.37931  82.689655  85.696552  3.006897\n",
       "2      213.50000  81.557692  81.107692 -0.450000\n",
       "3      309.00000  83.229412  90.494118  7.264706"
      ]
     },
     "execution_count": 25,
     "metadata": {},
     "output_type": "execute_result"
    }
   ],
   "source": [
    "df.groupby(['group']).mean()"
   ]
  },
  {
   "cell_type": "markdown",
   "metadata": {},
   "source": [
    "__DISCUSSION QUESTION 5__: What information can we get from the mean and median by group (i.e. by treatment 1-Individual, 2-Control and 3-Family)? Which treatment seems to work best?"
   ]
  },
  {
   "cell_type": "markdown",
   "metadata": {},
   "source": [
    "---"
   ]
  },
  {
   "cell_type": "markdown",
   "metadata": {},
   "source": [
    "Well, to be sure about our analysis with the measures of central tendency. We need to know the dispersion measures of our population."
   ]
  },
  {
   "cell_type": "markdown",
   "metadata": {},
   "source": [
    "---"
   ]
  },
  {
   "cell_type": "markdown",
   "metadata": {},
   "source": [
    "## PART 2 - Measure of Spread - Measures of Spread"
   ]
  },
  {
   "cell_type": "markdown",
   "metadata": {},
   "source": [
    "### Min\n",
    "\n",
    "The min represents the smallest value in a data set. Then we calculate the range as:\n",
    "\n",
    "\\Òbegin{equation}\n",
    "Min = [Min Value].\n",
    "\\end{equation*}"
   ]
  },
  {
   "cell_type": "markdown",
   "metadata": {},
   "source": [
    "Let's take again the example of the first 11 values of our variable weight __prewt__ which we know indicates the patient's weight before the study period, in pounds."
   ]
  },
  {
   "cell_type": "code",
   "execution_count": 26,
   "metadata": {},
   "outputs": [
    {
     "name": "stdout",
     "output_type": "stream",
     "text": [
      "[80.5, 80.7, 83.8, 84.9, 89.4, 83.3, 81.5, 91.8, 86.0, 82.6, 74.0]\n"
     ]
    }
   ],
   "source": [
    "a = list(df.prewt.head(11));print(a)"
   ]
  },
  {
   "cell_type": "code",
   "execution_count": 27,
   "metadata": {},
   "outputs": [
    {
     "data": {
      "text/plain": [
       "74.0"
      ]
     },
     "execution_count": 27,
     "metadata": {},
     "output_type": "execute_result"
    }
   ],
   "source": [
    "min(a)"
   ]
  },
  {
   "cell_type": "markdown",
   "metadata": {},
   "source": [
    "### Max\n",
    "\n",
    "The max represents the largest value in a data set. Then we calculate the range as:\n",
    "\n",
    "\\begin{equation*}\n",
    "Minimum = [Maximum value]\n",
    "\\end{equation*}"
   ]
  },
  {
   "cell_type": "code",
   "execution_count": 28,
   "metadata": {},
   "outputs": [
    {
     "data": {
      "text/plain": [
       "91.8"
      ]
     },
     "execution_count": 28,
     "metadata": {},
     "output_type": "execute_result"
    }
   ],
   "source": [
    "max(a)"
   ]
  },
  {
   "cell_type": "markdown",
   "metadata": {},
   "source": [
    "### Range "
   ]
  },
  {
   "cell_type": "markdown",
   "metadata": {},
   "source": [
    "The rank is the difference between the largest value and the smallest value in a data set and is the simplest measure of spread. So we calculate the rank as:"
   ]
  },
  {
   "cell_type": "markdown",
   "metadata": {},
   "source": [
    "\n",
    "\\begin{equation*}\n",
    "Range = [Maximum Value] - [Minimum Value].\n",
    "\\end{equation*}"
   ]
  },
  {
   "cell_type": "markdown",
   "metadata": {},
   "source": [
    "So the range is:"
   ]
  },
  {
   "cell_type": "code",
   "execution_count": 29,
   "metadata": {},
   "outputs": [
    {
     "data": {
      "text/plain": [
       "17.799999999999997"
      ]
     },
     "execution_count": 29,
     "metadata": {},
     "output_type": "execute_result"
    }
   ],
   "source": [
    "max(a)-min(a)"
   ]
  },
  {
   "cell_type": "markdown",
   "metadata": {},
   "source": [
    "Calculating the range in numpy/pandas for all variables."
   ]
  },
  {
   "cell_type": "code",
   "execution_count": 30,
   "metadata": {},
   "outputs": [
    {
     "data": {
      "text/html": [
       "<div>\n",
       "<style scoped>\n",
       "    .dataframe tbody tr th:only-of-type {\n",
       "        vertical-align: middle;\n",
       "    }\n",
       "\n",
       "    .dataframe tbody tr th {\n",
       "        vertical-align: top;\n",
       "    }\n",
       "\n",
       "    .dataframe thead th {\n",
       "        text-align: right;\n",
       "    }\n",
       "</style>\n",
       "<table border=\"1\" class=\"dataframe\">\n",
       "  <thead>\n",
       "    <tr style=\"text-align: right;\">\n",
       "      <th></th>\n",
       "      <th>ID</th>\n",
       "      <th>prewt</th>\n",
       "      <th>postwt</th>\n",
       "      <th>difwt</th>\n",
       "    </tr>\n",
       "    <tr>\n",
       "      <th>group</th>\n",
       "      <th></th>\n",
       "      <th></th>\n",
       "      <th></th>\n",
       "      <th></th>\n",
       "    </tr>\n",
       "  </thead>\n",
       "  <tbody>\n",
       "    <tr>\n",
       "      <th>1</th>\n",
       "      <td>227</td>\n",
       "      <td>94.9</td>\n",
       "      <td>103.6</td>\n",
       "      <td>20.9</td>\n",
       "    </tr>\n",
       "    <tr>\n",
       "      <th>2</th>\n",
       "      <td>226</td>\n",
       "      <td>91.8</td>\n",
       "      <td>89.6</td>\n",
       "      <td>15.9</td>\n",
       "    </tr>\n",
       "    <tr>\n",
       "      <th>3</th>\n",
       "      <td>317</td>\n",
       "      <td>94.2</td>\n",
       "      <td>101.6</td>\n",
       "      <td>21.5</td>\n",
       "    </tr>\n",
       "  </tbody>\n",
       "</table>\n",
       "</div>"
      ],
      "text/plain": [
       "        ID  prewt  postwt  difwt\n",
       "group                           \n",
       "1      227   94.9   103.6   20.9\n",
       "2      226   91.8    89.6   15.9\n",
       "3      317   94.2   101.6   21.5"
      ]
     },
     "execution_count": 30,
     "metadata": {},
     "output_type": "execute_result"
    }
   ],
   "source": [
    "df.groupby(['group']).max()"
   ]
  },
  {
   "cell_type": "code",
   "execution_count": 31,
   "metadata": {},
   "outputs": [
    {
     "data": {
      "text/html": [
       "<div>\n",
       "<style scoped>\n",
       "    .dataframe tbody tr th:only-of-type {\n",
       "        vertical-align: middle;\n",
       "    }\n",
       "\n",
       "    .dataframe tbody tr th {\n",
       "        vertical-align: top;\n",
       "    }\n",
       "\n",
       "    .dataframe thead th {\n",
       "        text-align: right;\n",
       "    }\n",
       "</style>\n",
       "<table border=\"1\" class=\"dataframe\">\n",
       "  <thead>\n",
       "    <tr style=\"text-align: right;\">\n",
       "      <th></th>\n",
       "      <th>ID</th>\n",
       "      <th>prewt</th>\n",
       "      <th>postwt</th>\n",
       "      <th>difwt</th>\n",
       "    </tr>\n",
       "    <tr>\n",
       "      <th>group</th>\n",
       "      <th></th>\n",
       "      <th></th>\n",
       "      <th></th>\n",
       "      <th></th>\n",
       "    </tr>\n",
       "  </thead>\n",
       "  <tbody>\n",
       "    <tr>\n",
       "      <th>1</th>\n",
       "      <td>101</td>\n",
       "      <td>70.0</td>\n",
       "      <td>71.3</td>\n",
       "      <td>-9.1</td>\n",
       "    </tr>\n",
       "    <tr>\n",
       "      <th>2</th>\n",
       "      <td>201</td>\n",
       "      <td>70.5</td>\n",
       "      <td>73.0</td>\n",
       "      <td>-12.2</td>\n",
       "    </tr>\n",
       "    <tr>\n",
       "      <th>3</th>\n",
       "      <td>301</td>\n",
       "      <td>73.4</td>\n",
       "      <td>75.2</td>\n",
       "      <td>-5.3</td>\n",
       "    </tr>\n",
       "  </tbody>\n",
       "</table>\n",
       "</div>"
      ],
      "text/plain": [
       "        ID  prewt  postwt  difwt\n",
       "group                           \n",
       "1      101   70.0    71.3   -9.1\n",
       "2      201   70.5    73.0  -12.2\n",
       "3      301   73.4    75.2   -5.3"
      ]
     },
     "execution_count": 31,
     "metadata": {},
     "output_type": "execute_result"
    }
   ],
   "source": [
    "df.groupby(['group']).min()"
   ]
  },
  {
   "cell_type": "code",
   "execution_count": 32,
   "metadata": {},
   "outputs": [
    {
     "data": {
      "text/html": [
       "<div>\n",
       "<style scoped>\n",
       "    .dataframe tbody tr th:only-of-type {\n",
       "        vertical-align: middle;\n",
       "    }\n",
       "\n",
       "    .dataframe tbody tr th {\n",
       "        vertical-align: top;\n",
       "    }\n",
       "\n",
       "    .dataframe thead th {\n",
       "        text-align: right;\n",
       "    }\n",
       "</style>\n",
       "<table border=\"1\" class=\"dataframe\">\n",
       "  <thead>\n",
       "    <tr style=\"text-align: right;\">\n",
       "      <th></th>\n",
       "      <th>ID</th>\n",
       "      <th>prewt</th>\n",
       "      <th>postwt</th>\n",
       "      <th>difwt</th>\n",
       "    </tr>\n",
       "    <tr>\n",
       "      <th>group</th>\n",
       "      <th></th>\n",
       "      <th></th>\n",
       "      <th></th>\n",
       "      <th></th>\n",
       "    </tr>\n",
       "  </thead>\n",
       "  <tbody>\n",
       "    <tr>\n",
       "      <th>1</th>\n",
       "      <td>126</td>\n",
       "      <td>24.9</td>\n",
       "      <td>32.3</td>\n",
       "      <td>30.0</td>\n",
       "    </tr>\n",
       "    <tr>\n",
       "      <th>2</th>\n",
       "      <td>25</td>\n",
       "      <td>21.3</td>\n",
       "      <td>16.6</td>\n",
       "      <td>28.1</td>\n",
       "    </tr>\n",
       "    <tr>\n",
       "      <th>3</th>\n",
       "      <td>16</td>\n",
       "      <td>20.8</td>\n",
       "      <td>26.4</td>\n",
       "      <td>26.8</td>\n",
       "    </tr>\n",
       "  </tbody>\n",
       "</table>\n",
       "</div>"
      ],
      "text/plain": [
       "        ID  prewt  postwt  difwt\n",
       "group                           \n",
       "1      126   24.9    32.3   30.0\n",
       "2       25   21.3    16.6   28.1\n",
       "3       16   20.8    26.4   26.8"
      ]
     },
     "execution_count": 32,
     "metadata": {},
     "output_type": "execute_result"
    }
   ],
   "source": [
    "df.groupby(['group']).max() - df.groupby(['group']).min()"
   ]
  },
  {
   "cell_type": "markdown",
   "metadata": {},
   "source": [
    "### Standard Deviation - Standard Deviation\n",
    "\n",
    "Standard deviation measures the dispersion of data about the mean value. It is useful for comparing data sets that may have the same mean but a different range.\n",
    "\n",
    "\n",
    "\n",
    "\\begin{equation*}\n",
    "Deviation.standard = \\sqrt{\\frac{1}{N-1} \\sum_{i=1}^N (x_i - \\overline{x})^2}\n",
    "\\end{equation*}\n"
   ]
  },
  {
   "cell_type": "code",
   "execution_count": 33,
   "metadata": {},
   "outputs": [
    {
     "name": "stdout",
     "output_type": "stream",
     "text": [
      "[80.5, 80.7, 83.8, 84.9, 89.4, 83.3, 81.5, 91.8, 86.0, 82.6, 74.0]\n"
     ]
    }
   ],
   "source": [
    "a = list(df.prewt.head(11));print(a)"
   ]
  },
  {
   "cell_type": "code",
   "execution_count": 34,
   "metadata": {},
   "outputs": [
    {
     "name": "stdout",
     "output_type": "stream",
     "text": [
      "average= 83.5\n"
     ]
    }
   ],
   "source": [
    "x_bar = df.prewt.head(11).mean()\n",
    "print(\"average=\",x_bar)"
   ]
  },
  {
   "cell_type": "code",
   "execution_count": 35,
   "metadata": {},
   "outputs": [
    {
     "name": "stdout",
     "output_type": "stream",
     "text": [
      "(x_i - x_bar)^2=( 80.5 - 83.5 )^2= 9.0 | SUMA =  9.0\n",
      "(x_i - x_bar)^2=( 80.7 - 83.5 )^2= 7.839999999999984 | SUMA =  16.839999999999982\n",
      "(x_i - x_bar)^2=( 83.8 - 83.5 )^2= 0.08999999999999829 | SUMA =  16.929999999999982\n",
      "(x_i - x_bar)^2=( 84.9 - 83.5 )^2= 1.960000000000016 | SUMA =  18.889999999999997\n",
      "(x_i - x_bar)^2=( 89.4 - 83.5 )^2= 34.810000000000066 | SUMA =  53.70000000000006\n",
      "(x_i - x_bar)^2=( 83.3 - 83.5 )^2= 0.04000000000000114 | SUMA =  53.74000000000006\n",
      "(x_i - x_bar)^2=( 81.5 - 83.5 )^2= 4.0 | SUMA =  57.74000000000006\n",
      "(x_i - x_bar)^2=( 91.8 - 83.5 )^2= 68.88999999999996 | SUMA =  126.63000000000002\n",
      "(x_i - x_bar)^2=( 86.0 - 83.5 )^2= 6.25 | SUMA =  132.88000000000002\n",
      "(x_i - x_bar)^2=( 82.6 - 83.5 )^2= 0.8100000000000103 | SUMA =  133.69000000000003\n",
      "(x_i - x_bar)^2=( 74.0 - 83.5 )^2= 90.25 | SUMA =  223.94000000000003\n"
     ]
    }
   ],
   "source": [
    "a_sum = 0.0\n",
    "for x_i in a:\n",
    "    a_sum = a_sum + (x_i - x_bar)**2\n",
    "    print (\"(x_i - x_bar)^2=(\",x_i, \"-\",x_bar,\")^2=\", (x_i - x_bar)**2, \"| SUMA = \", a_sum)"
   ]
  },
  {
   "cell_type": "code",
   "execution_count": 36,
   "metadata": {},
   "outputs": [
    {
     "name": "stdout",
     "output_type": "stream",
     "text": [
      "Standard Deviation - Desviación estándar =  4.732229918336598\n"
     ]
    }
   ],
   "source": [
    "import math\n",
    "print(\"Standard Deviation - Desviación estándar = \", math.sqrt(a_sum/(len(a)-1)))"
   ]
  },
  {
   "cell_type": "markdown",
   "metadata": {},
   "source": [
    "But in Python Pandas we can use __std__ ;-)"
   ]
  },
  {
   "cell_type": "code",
   "execution_count": 37,
   "metadata": {},
   "outputs": [
    {
     "data": {
      "text/plain": [
       "4.732229918336598"
      ]
     },
     "execution_count": 37,
     "metadata": {},
     "output_type": "execute_result"
    }
   ],
   "source": [
    "df.prewt.head(11).std()"
   ]
  },
  {
   "cell_type": "markdown",
   "metadata": {},
   "source": [
    "### Quartiles and Interquartile Range - Quartiles and Interquartile Range.\n",
    "\n",
    "Quartiles tell us about the spread of a data set by dividing the data set into 4 groups. Just as the median divides into N=2 groups by taking 1 central element or the average of the two central elements, the operation to find the quartiles (N=4) divides the data into 4 groups using 3 boundaries (N-1 boundaries generate N groups) and the boundaries are the 25% element, the 50% element (median) and the 75% element.\n"
   ]
  },
  {
   "cell_type": "markdown",
   "metadata": {},
   "source": [
    "1st quartile - 25% percentile"
   ]
  },
  {
   "cell_type": "code",
   "execution_count": 38,
   "metadata": {},
   "outputs": [
    {
     "data": {
      "text/plain": [
       "79.6"
      ]
     },
     "execution_count": 38,
     "metadata": {},
     "output_type": "execute_result"
    }
   ],
   "source": [
    "df.prewt.quantile(0.25) # 25% percentil - Primero cuartil"
   ]
  },
  {
   "cell_type": "markdown",
   "metadata": {},
   "source": [
    "Second quartile - Same as median - 50% percentile "
   ]
  },
  {
   "cell_type": "code",
   "execution_count": 39,
   "metadata": {},
   "outputs": [
    {
     "data": {
      "text/plain": [
       "82.3"
      ]
     },
     "execution_count": 39,
     "metadata": {},
     "output_type": "execute_result"
    }
   ],
   "source": [
    "df.prewt.quantile(0.50)"
   ]
  },
  {
   "cell_type": "code",
   "execution_count": 40,
   "metadata": {},
   "outputs": [
    {
     "data": {
      "text/plain": [
       "82.3"
      ]
     },
     "execution_count": 40,
     "metadata": {},
     "output_type": "execute_result"
    }
   ],
   "source": [
    "df.prewt.median()"
   ]
  },
  {
   "cell_type": "markdown",
   "metadata": {},
   "source": [
    "Third quartile - 75% percentile"
   ]
  },
  {
   "cell_type": "code",
   "execution_count": 41,
   "metadata": {},
   "outputs": [
    {
     "data": {
      "text/plain": [
       "86.0"
      ]
     },
     "execution_count": 41,
     "metadata": {},
     "output_type": "execute_result"
    }
   ],
   "source": [
    "df.prewt.quantile(0.75)"
   ]
  },
  {
   "cell_type": "code",
   "execution_count": 42,
   "metadata": {},
   "outputs": [
    {
     "data": {
      "text/plain": [
       "<Axes: >"
      ]
     },
     "execution_count": 42,
     "metadata": {},
     "output_type": "execute_result"
    },
    {
     "data": {
      "image/png": "[encoded data removed]",
      "text/plain": [
       "<Figure size 640x480 with 1 Axes>"
      ]
     },
     "metadata": {},
     "output_type": "display_data"
    }
   ],
   "source": [
    "df.prewt.plot.box(showmeans=True)"
   ]
  },
  {
   "cell_type": "markdown",
   "metadata": {},
   "source": [
    "---"
   ]
  },
  {
   "cell_type": "markdown",
   "metadata": {},
   "source": [
    "### Describe\n",
    "\n",
    "In pandas, the __describe__ function combines measures of central tendency and dispersion in a single operation.\n"
   ]
  },
  {
   "cell_type": "code",
   "execution_count": 43,
   "metadata": {},
   "outputs": [
    {
     "data": {
      "text/plain": [
       "count    72.000000\n",
       "mean     82.408333\n",
       "std       5.182466\n",
       "min      70.000000\n",
       "25%      79.600000\n",
       "50%      82.300000\n",
       "75%      86.000000\n",
       "max      94.900000\n",
       "Name: prewt, dtype: float64"
      ]
     },
     "execution_count": 43,
     "metadata": {},
     "output_type": "execute_result"
    }
   ],
   "source": [
    "df.prewt.describe()"
   ]
  },
  {
   "cell_type": "markdown",
   "metadata": {},
   "source": [
    "The __loop__ below prints the __describe__ function by group for each of the continuous variables. "
   ]
  },
  {
   "cell_type": "code",
   "execution_count": 44,
   "metadata": {},
   "outputs": [
    {
     "name": "stdout",
     "output_type": "stream",
     "text": [
      "VARIABLE =  prewt\n",
      "      prewt                                                        \n",
      "      count       mean       std   min     25%    50%     75%   max\n",
      "group                                                              \n",
      "1      29.0  82.689655  4.845495  70.0  80.400  82.60  85.000  94.9\n",
      "2      26.0  81.557692  5.707060  70.5  77.725  80.65  85.875  91.8\n",
      "3      17.0  83.229412  5.016693  73.4  80.500  83.30  86.000  94.2\n",
      "---\n",
      "VARIABLE =  postwt\n",
      "      postwt                                                        \n",
      "       count       mean       std   min     25%   50%     75%    max\n",
      "group                                                               \n",
      "1       29.0  85.696552  8.351924  71.3  81.900  83.9  90.900  103.6\n",
      "2       26.0  81.107692  4.744253  73.0  77.575  80.7  84.675   89.6\n",
      "3       17.0  90.494118  8.475072  75.2  90.700  92.5  95.200  101.6\n",
      "---\n",
      "VARIABLE =  difwt\n",
      "      difwt                                                 \n",
      "      count      mean       std   min  25%   50%   75%   max\n",
      "group                                                       \n",
      "1      29.0  3.006897  7.308504  -9.1 -0.7  1.40   3.9  20.9\n",
      "2      26.0 -0.450000  7.988705 -12.2 -7.0 -0.35   3.6  15.9\n",
      "3      17.0  7.264706  7.157421  -5.3  3.9  9.00  11.4  21.5\n",
      "---\n"
     ]
    }
   ],
   "source": [
    "for var in ['prewt', 'postwt', 'difwt']:\n",
    "    print(\"VARIABLE = \", var)\n",
    "    print(df[[var,'group']].groupby(['group']).describe())\n",
    "    print(\"---\")    "
   ]
  },
  {
   "cell_type": "markdown",
   "metadata": {},
   "source": [
    "Perhaps the power of all this information for analysis is most evident in a BoxPlot graph:"
   ]
  },
  {
   "cell_type": "code",
   "execution_count": 45,
   "metadata": {},
   "outputs": [
    {
     "name": "stdout",
     "output_type": "stream",
     "text": [
      "Group 1: Individual Cognitive Behavior Therapy\n"
     ]
    },
    {
     "data": {
      "image/png": "[encoded data removed]",
      "text/plain": [
       "<Figure size 640x480 with 1 Axes>"
      ]
     },
     "metadata": {},
     "output_type": "display_data"
    }
   ],
   "source": [
    "print(\"Group 1: Individual Cognitive Behavior Therapy\")\n",
    "boxplot = df[df.group == 1].boxplot(column=['prewt', 'postwt', 'difwt'],showmeans=True)\n"
   ]
  },
  {
   "cell_type": "code",
   "execution_count": 46,
   "metadata": {},
   "outputs": [
    {
     "name": "stdout",
     "output_type": "stream",
     "text": [
      "Group 2: Control group\n"
     ]
    },
    {
     "data": {
      "image/png": "[encoded data removed]",
      "text/plain": [
       "<Figure size 640x480 with 1 Axes>"
      ]
     },
     "metadata": {},
     "output_type": "display_data"
    }
   ],
   "source": [
    "print(\"Group 2: Control group\")\n",
    "boxplot = df[df.group == 2].boxplot(column=['prewt', 'postwt', 'difwt'],showmeans=True)"
   ]
  },
  {
   "cell_type": "code",
   "execution_count": 47,
   "metadata": {},
   "outputs": [
    {
     "name": "stdout",
     "output_type": "stream",
     "text": [
      "Group 3: Family therapy\n"
     ]
    },
    {
     "data": {
      "image/png": "[encoded data removed]",
      "text/plain": [
       "<Figure size 640x480 with 1 Axes>"
      ]
     },
     "metadata": {},
     "output_type": "display_data"
    }
   ],
   "source": [
    "print(\"Group 3: Family therapy\")\n",
    "boxplot = df[df.group == 3].boxplot(column=['prewt', 'postwt', 'difwt'],showmeans=True)"
   ]
  },
  {
   "cell_type": "markdown",
   "metadata": {},
   "source": [
    "__DISCUSSION QUESTION 6__: With all that information in hand, which treatment seems to work best?"
   ]
  },
  {
   "cell_type": "markdown",
   "metadata": {},
   "source": [
    "---"
   ]
  },
  {
   "cell_type": "markdown",
   "metadata": {},
   "source": [
    "#### Conclusions\n",
    "\n",
    "How we choose to analyze data can lead to completely different results.\n",
    "Often you can impact (intentionally or unintentionally) what people take for certain depending on how you communicate the results.\n",
    "\n",
    "#### Tips\n",
    "Be skeptical of your results and those provided by others.\n",
    "Consider other ways of analyzing the data and whether you chose correctly.\n"
   ]
  },
  {
   "cell_type": "markdown",
   "metadata": {},
   "source": [
    "---"
   ]
  }
 ],
 "metadata": {
  "kernelspec": {
   "display_name": "Python 3 (ipykernel)",
   "language": "python",
   "name": "python3"
  },
  "language_info": {
   "codemirror_mode": {
    "name": "ipython",
    "version": 3
   },
   "file_extension": ".py",
   "mimetype": "text/x-python",
   "name": "python",
   "nbconvert_exporter": "python",
   "pygments_lexer": "ipython3",
   "version": "3.11.6"
  },
  "vscode": {
   "interpreter": {
    "hash": "c261aea317cc0286b3b3261fbba9abdec21eaa57589985bb7a274bf54d6cc0a7"
   }
  }
 },
 "nbformat": 4,
 "nbformat_minor": 2
}