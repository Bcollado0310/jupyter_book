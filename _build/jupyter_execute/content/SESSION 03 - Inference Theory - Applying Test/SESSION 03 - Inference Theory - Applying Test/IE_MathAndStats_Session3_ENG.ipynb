{
 "cells": [
  {
   "cell_type": "markdown",
   "metadata": {},
   "source": [
    "# CURSO: Math & Stat\n",
    "\n",
    "<img src=\"img/profile_manoelgadi.png\" width=100 height=100 align=\"right\">\n",
    "\n",
    "Autor: Prof. Manoel Gadi\n",
    "\n",
    "Contacto: mfalonso@faculty.ie.edu\n",
    "\n",
    "LinkedIn: https://es.linkedin.com/in/manoel-gadi-97821213\n",
    "\n",
    "Última revisión: 07/Nov/2022\n",
    "\n",
    "---"
   ]
  },
  {
   "cell_type": "markdown",
   "metadata": {},
   "source": [
    "## Session 3 - Inference\n",
    "\n",
    "## Confidence Intervals \n"
   ]
  },
  {
   "cell_type": "markdown",
   "metadata": {},
   "source": [
    "So far we have focused on sampling distribution and bootstrapping and one of the reasons is because they will be the basis of the two applications we will see:  Confidence Intervals and Hypothesis Testing.\n",
    "\n",
    "\n",
    "<img src=\"img/formulas.png\" width=500 height=500 align=\"center\">\n",
    "\n",
    "A __confidence interval__ is a range of values that (hopefully) contain the actual parameter.\n",
    "\n",
    "We want to be able to conclude, for example, that \"We are 95% confident that between 18% and 34% of the population recommends my product.\"\n",
    "\n"
   ]
  },
  {
   "cell_type": "markdown",
   "metadata": {},
   "source": [
    "<img src=\"img/intervaloconf.jpg\" width=300 height=300  align=\"center\">\n",
    "\n",
    "\n"
   ]
  },
  {
   "cell_type": "markdown",
   "metadata": {},
   "source": [
    "#### Example: Elections\n",
    "\n",
    "Suppose an election between only two candidates takes place.  A subset of the voters is surveyed and asked whether they plan to vote for candidate X or candidate Y. In this example our interest will be in looking at sampling variability, that is, the variability in sampling proportions due to the different subjects selected from the population. What is our parameter of interest?\n",
    "1. The proportion of subjects in a survey who will vote for candidate X.\n",
    "1. The proportion of all voters who will vote for Candidate X on election day.\n",
    "1. The sampling variability from poll to poll.\n",
    "\n",
    "---\n",
    "\n",
    "Answer: 2"
   ]
  },
  {
   "cell_type": "markdown",
   "metadata": {},
   "source": [
    "### Error Marginal:\n",
    "\n",
    "\\begin{equation*}\n",
    "MarginalError = criticalValue*\\frac{\\sigma }{\\sqrt{N}}\n",
    "\\end{equation*}    "
   ]
  },
  {
   "cell_type": "markdown",
   "metadata": {},
   "source": [
    "Let's use from scipy.stats the command norm.ppf(q = 0.975), which returns the value of the normal for the 97.5% percentile."
   ]
  },
  {
   "cell_type": "code",
   "execution_count": 1,
   "metadata": {},
   "outputs": [
    {
     "name": "stdout",
     "output_type": "stream",
     "text": [
      "1.959963984540054\n"
     ]
    }
   ],
   "source": [
    "import scipy.stats as stats\n",
    "\n",
    "ValorCritico = stats.norm.ppf(q = 0.975) \n",
    "print(ValorCritico)"
   ]
  },
  {
   "cell_type": "code",
   "execution_count": 2,
   "metadata": {},
   "outputs": [],
   "source": [
    "import pandas as pd\n",
    "df = pd.read_csv(\"datasets/anorexia.csv\")"
   ]
  },
  {
   "cell_type": "code",
   "execution_count": 3,
   "metadata": {},
   "outputs": [
    {
     "name": "stdout",
     "output_type": "stream",
     "text": [
      "1.1887246322688207\n"
     ]
    }
   ],
   "source": [
    "import numpy as np\n",
    "MargenDeError = ValorCritico * (np.std(df[\"prewt\"])) / np.sqrt(len(df))\n",
    "print(MargenDeError)"
   ]
  },
  {
   "cell_type": "markdown",
   "metadata": {},
   "source": [
    "So the confidence interval is:"
   ]
  },
  {
   "cell_type": "code",
   "execution_count": 4,
   "metadata": {},
   "outputs": [
    {
     "name": "stdout",
     "output_type": "stream",
     "text": [
      "límite inferior = 81.21960870106452\n",
      "promedio = 82.40833333333333\n",
      "límite superior = 83.59705796560215\n"
     ]
    }
   ],
   "source": [
    "print(\"límite inferior =\",np.mean(df[\"prewt\"]) - MargenDeError)\n",
    "print(\"promedio =\",np.mean(df[\"prewt\"]))\n",
    "print(\"límite superior =\",np.mean(df[\"prewt\"]) + MargenDeError)"
   ]
  },
  {
   "cell_type": "markdown",
   "metadata": {},
   "source": [
    "__DISCUSSION QUESTION 1__: What is the above interval for?"
   ]
  },
  {
   "cell_type": "markdown",
   "metadata": {},
   "source": [
    "---"
   ]
  },
  {
   "cell_type": "markdown",
   "metadata": {},
   "source": [
    "## PART 5 - Hypothesis Testing!"
   ]
  },
  {
   "cell_type": "markdown",
   "metadata": {},
   "source": [
    "### P-Value\n",
    "\n"
   ]
  },
  {
   "cell_type": "markdown",
   "metadata": {},
   "source": [
    "The British statistician Ronald Fisher was the first to introduce the p-value in the 1920s. His intention was to provide a simple way of assessing whether a result was significant or not, in the old sense of the word: whether it made sense to investigate further in this direction or not. The initial approach to the calculation and interpretation of the p-value did not include cut-off values, such as 0.05 or 0.01.\n",
    "\n",
    "ref: https://www.mimetis.com/p0-05-descubrimiento-cientifico-valor-p-estadistica/"
   ]
  },
  {
   "cell_type": "markdown",
   "metadata": {},
   "source": [
    "<img src=\"img/p_valor.jpg\" width=300 height=300  align=\"center\">"
   ]
  },
  {
   "cell_type": "markdown",
   "metadata": {},
   "source": [
    "### Let's see what the p-value is with an example"
   ]
  },
  {
   "cell_type": "markdown",
   "metadata": {},
   "source": [
    "If I flip a coin and it comes out __face__, are you suspicious that my coin is tricked or do you think it is honest? what is the probability of that happening?"
   ]
  },
  {
   "cell_type": "code",
   "execution_count": 5,
   "metadata": {},
   "outputs": [
    {
     "data": {
      "text/plain": [
       "0.5"
      ]
     },
     "execution_count": 5,
     "metadata": {},
     "output_type": "execute_result"
    }
   ],
   "source": [
    "1 / 2"
   ]
  },
  {
   "cell_type": "markdown",
   "metadata": {},
   "source": [
    "If I flip one more coin and it comes out __face__, are you suspicious that my coin is counterfeit or do you think it is honest? what is the probability of that happening?"
   ]
  },
  {
   "cell_type": "code",
   "execution_count": 6,
   "metadata": {},
   "outputs": [
    {
     "data": {
      "text/plain": [
       "0.25"
      ]
     },
     "execution_count": 6,
     "metadata": {},
     "output_type": "execute_result"
    }
   ],
   "source": [
    "(1 / 2**2)"
   ]
  },
  {
   "cell_type": "markdown",
   "metadata": {},
   "source": [
    "If I flip one more coin and it comes out __face__, are you suspicious that my coin is counterfeit or do you think it is honest? what is the probability of that happening?"
   ]
  },
  {
   "cell_type": "code",
   "execution_count": 7,
   "metadata": {},
   "outputs": [
    {
     "data": {
      "text/plain": [
       "0.125"
      ]
     },
     "execution_count": 7,
     "metadata": {},
     "output_type": "execute_result"
    }
   ],
   "source": [
    "(1 / 2**3)"
   ]
  },
  {
   "cell_type": "markdown",
   "metadata": {},
   "source": [
    "If I flip one more coin and it comes out __face__, are you suspicious that my coin is counterfeit or do you think it is honest? what is the probability of that happening?"
   ]
  },
  {
   "cell_type": "code",
   "execution_count": 8,
   "metadata": {},
   "outputs": [
    {
     "data": {
      "text/plain": [
       "0.0625"
      ]
     },
     "execution_count": 8,
     "metadata": {},
     "output_type": "execute_result"
    }
   ],
   "source": [
    "(1 / 2**4)"
   ]
  },
  {
   "cell_type": "markdown",
   "metadata": {},
   "source": [
    "If I flip one more coin and it comes out __face__, are you suspicious that my coin is counterfeit or do you think it is honest? what is the probability of that happening?"
   ]
  },
  {
   "cell_type": "code",
   "execution_count": 9,
   "metadata": {},
   "outputs": [
    {
     "data": {
      "text/plain": [
       "0.03125"
      ]
     },
     "execution_count": 9,
     "metadata": {},
     "output_type": "execute_result"
    }
   ],
   "source": [
    "(1 / 2**5)"
   ]
  },
  {
   "cell_type": "markdown",
   "metadata": {},
   "source": [
    "The p-value (probability-value), __is this probability value that makes you start to believe that something strange must be happening__. \n",
    "\n",
    "In the example of the coins, with a p-value < 5% the coin cannot be normal.\n",
    "\n",
    "So the H0 hypothesis or NULL hypothesis cannot be true. That is, the hypothesis of normality, of tranquility, of honesty, of __equality__ between my coin and other coins cannot be true.\n",
    "\n",
    "* H0: the probability of my coin is __=__ (equal) to that of an honest coin.\n",
    "\n",
    "* H1: the probability is different, i.e., a trick coin. \n",
    "\n",
    "So if I flip my coin 5 times and all 5 come up heads, with a p-value of 0.03125 I can __reject the null hypothesis__, which is equivalent to saying that I can __accept the alternative hypothesis__.\n",
    "\n",
    "\n",
    "\n",
    "\n",
    "\n"
   ]
  },
  {
   "cell_type": "markdown",
   "metadata": {},
   "source": [
    "Let's paint a histogram with all the possibilities that a normal coin can fall."
   ]
  },
  {
   "cell_type": "code",
   "execution_count": 10,
   "metadata": {},
   "outputs": [],
   "source": [
    "sorteos = []\n",
    "for i in [-1,1]:\n",
    "    for j in [-1,1]:\n",
    "        for k in [-1,1]:\n",
    "            for l in [-1,1]:\n",
    "                for m in [-1,1]:\n",
    "                    sorteos.append(i + j + k + l + m)"
   ]
  },
  {
   "cell_type": "code",
   "execution_count": 11,
   "metadata": {},
   "outputs": [],
   "source": [
    "import numpy as np\n",
    "import matplotlib.pyplot as plt\n",
    "from matplotlib.ticker import PercentFormatter"
   ]
  },
  {
   "cell_type": "code",
   "execution_count": 12,
   "metadata": {},
   "outputs": [
    {
     "data": {
      "image/png": "[encoded data removed]",
      "text/plain": [
       "<Figure size 640x480 with 1 Axes>"
      ]
     },
     "metadata": {},
     "output_type": "display_data"
    }
   ],
   "source": [
    "hist, bins = np.histogram(sorteos)\n",
    "plt.hist(sorteos, weights=np.ones(len(sorteos)) / len(sorteos))\n",
    "plt.gca().yaxis.set_major_formatter(PercentFormatter(1))\n",
    "plt.show()"
   ]
  },
  {
   "cell_type": "markdown",
   "metadata": {},
   "source": [
    "---"
   ]
  },
  {
   "cell_type": "markdown",
   "metadata": {},
   "source": [
    "### Has the weight of people in general changed before and after the treatments (one-sample t-test)?\n",
    "\n",
    "Since we already have the values of difference in weight before and after treatment, we can use a one-sample paired t-test in the 'difwt' column to see if there is a significant change in weights, where the hypothesis is:\n",
    "\n",
    "* H0: The mean difference is equal to 0.\n",
    "* H1: The mean difference is not equal to 0.\n",
    "\n",
    "We can use the [````stats.ttest_1samp(x, mean)```](https://docs.scipy.org/doc/scipy-0.14.0/reference/generated/scipy.stats.ttest_1samp.html) to perform the one-sample t-test, where x is the data and mean is the mean of the population you want to test the data against (in this case, 0). The function returns the test statistic and the p-value respectively."
   ]
  },
  {
   "cell_type": "code",
   "execution_count": 13,
   "metadata": {},
   "outputs": [
    {
     "data": {
      "text/plain": [
       "group\n",
       "1    3.006897\n",
       "2   -0.450000\n",
       "3    7.264706\n",
       "Name: difwt, dtype: float64"
      ]
     },
     "execution_count": 13,
     "metadata": {},
     "output_type": "execute_result"
    }
   ],
   "source": [
    "df.groupby(['group'])['difwt'].mean()"
   ]
  },
  {
   "cell_type": "code",
   "execution_count": 14,
   "metadata": {},
   "outputs": [
    {
     "name": "stdout",
     "output_type": "stream",
     "text": [
      "group 1: TtestResult(statistic=2.2155878439311665, pvalue=0.03502259756218877, df=28)\n",
      "group 2: TtestResult(statistic=-0.2872253910150259, pvalue=0.7763070622194164, df=25)\n",
      "group 3: TtestResult(statistic=4.184908135290033, pvalue=0.0007002531056005393, df=16)\n"
     ]
    }
   ],
   "source": [
    "# Use the stats.ttest_1samp function to see whether the 'difwt' column\n",
    "# is different from population mean 0\n",
    "# and print the result\n",
    "print(\"group 1:\",stats.ttest_1samp(df['difwt'][df.group==1], 0))\n",
    "print(\"group 2:\",stats.ttest_1samp(df['difwt'][df.group==2], 0))\n",
    "print(\"group 3:\",stats.ttest_1samp(df['difwt'][df.group==3], 0))"
   ]
  },
  {
   "cell_type": "markdown",
   "metadata": {},
   "source": [
    "We see that if we take p-value = 5%, we would say with statistical certainty that treatment 1 and 3 do work. But the problem is in the sample!\n",
    "\n",
    "Let's watch a video with an example similar to ours: https://www.youtube.com/watch?v=VPd8DOL13Iw"
   ]
  },
  {
   "cell_type": "markdown",
   "metadata": {},
   "source": [
    "---"
   ]
  },
  {
   "cell_type": "markdown",
   "metadata": {},
   "source": [
    "### But are the weights normally distributed (tests for normality)?\n",
    "\n",
    "There are several ways in which we can test whether a given set of data is normally distributed or not.\n",
    "\n",
    "Here we present these to you:\n",
    "* [````scipy.stats.normaltest(x)```](https://docs.scipy.org/doc/scipy/reference/generated/scipy.stats.normaltest.html#r676), where x is the data matrix.\n",
    "* [````scipy.stats.shapiro(x)````](https://docs.scipy.org/doc/scipy/reference/generated/scipy.stats.shapiro.html), where x is the data matrix.\n",
    "\n",
    "Both tests are used to determine whether or not a data set is from a normal distribution. For both tests, the hypothesis is as follows:\n",
    "\n",
    "* H0: Sample comes from a normal distribution.\n",
    "* H1: The sample does not come from a normal distribution.\n",
    "\n",
    "As in the case of the modules, you can access the functions of the stats module using the format ```stats.[function_name]```."
   ]
  },
  {
   "cell_type": "code",
   "execution_count": 15,
   "metadata": {},
   "outputs": [
    {
     "name": "stdout",
     "output_type": "stream",
     "text": [
      "pre-weight normal test: NormaltestResult(statistic=0.07182332731282798, pvalue=0.9647255100433293)\n",
      "\n",
      "post-weight normal test: NormaltestResult(statistic=4.872229098757813, pvalue=0.08750016942113438)\n",
      "\n",
      "weight difference normal test: NormaltestResult(statistic=2.1365312271308587, pvalue=0.34360394293797336)\n"
     ]
    }
   ],
   "source": [
    "# use the normaltest function to find the test statistic and p-value\n",
    "# of 'prewt', 'postwt', and 'difwt' column, and print each of them.\n",
    "# since pandas dataframe is also built on top of arrays,\n",
    "# you can use the dataframe column selection method directly to use the normaltest\n",
    "\n",
    "print(\"pre-weight normal test:\",stats.normaltest(df['prewt']))\n",
    "print(\"\\npost-weight normal test:\",stats.normaltest(df['postwt']))\n",
    "print(\"\\nweight difference normal test:\",stats.normaltest(df['difwt']))"
   ]
  },
  {
   "cell_type": "markdown",
   "metadata": {},
   "source": [
    "Since the p-values are greater than 0.05, we accept the null hypothesis, and say that the samples come from a normal. But that gives us little information."
   ]
  },
  {
   "cell_type": "markdown",
   "metadata": {},
   "source": [
    "---"
   ]
  },
  {
   "cell_type": "code",
   "execution_count": 16,
   "metadata": {},
   "outputs": [
    {
     "name": "stdout",
     "output_type": "stream",
     "text": [
      "pre-weight normal test group 1: NormaltestResult(statistic=2.190665224371193, pvalue=0.33442835350192357)\n",
      "\n",
      "pre-weight normal test group 2: NormaltestResult(statistic=1.3592413074710437, pvalue=0.506809212085776)\n",
      "\n",
      "pre-weight normal test group 2: NormaltestResult(statistic=0.6339602402721894, pvalue=0.728345234385914)\n"
     ]
    },
    {
     "name": "stderr",
     "output_type": "stream",
     "text": [
      "c:\\Users\\brian\\AppData\\Local\\Programs\\Python\\Python311\\Lib\\site-packages\\scipy\\stats\\_stats_py.py:1971: UserWarning: kurtosistest only valid for n>=20 ... continuing anyway, n=17\n",
      "  k, _ = kurtosistest(a, axis)\n"
     ]
    }
   ],
   "source": [
    "print(\"pre-weight normal test group 1:\",stats.normaltest(df['prewt'][df.group==1]))\n",
    "print(\"\\npre-weight normal test group 2:\",stats.normaltest(df['prewt'][df.group==2]))\n",
    "print(\"\\npre-weight normal test group 2:\",stats.normaltest(df['prewt'][df.group==3]))"
   ]
  },
  {
   "cell_type": "code",
   "execution_count": 17,
   "metadata": {},
   "outputs": [
    {
     "name": "stdout",
     "output_type": "stream",
     "text": [
      "post-weight normal test group 1: NormaltestResult(statistic=0.8703912694929079, pvalue=0.64713805200456)\n",
      "\n",
      "post-weight normal test group 2: NormaltestResult(statistic=1.9224427796417511, pvalue=0.3824255099839377)\n",
      "\n",
      "post-weight normal test group 3: NormaltestResult(statistic=2.7537110267097002, pvalue=0.25237088354350456)\n"
     ]
    }
   ],
   "source": [
    "print(\"post-weight normal test group 1:\",stats.normaltest(df['postwt'][df.group==1]))\n",
    "print(\"\\npost-weight normal test group 2:\",stats.normaltest(df['postwt'][df.group==2]))\n",
    "print(\"\\npost-weight normal test group 3:\",stats.normaltest(df['postwt'][df.group==3]))"
   ]
  },
  {
   "cell_type": "markdown",
   "metadata": {},
   "source": [
    "---"
   ]
  },
  {
   "cell_type": "code",
   "execution_count": 18,
   "metadata": {},
   "outputs": [
    {
     "name": "stdout",
     "output_type": "stream",
     "text": [
      "pre-weight shapiro test: ShapiroResult(statistic=0.9924839511102087, pvalue=0.9483528401156376)\n",
      "\n",
      "post-weight shapiro test: ShapiroResult(statistic=0.967300314425507, pvalue=0.05780905915997275)\n",
      "\n",
      "weight difference shapiro test: ShapiroResult(statistic=0.9746643621441196, pvalue=0.15441412470062205)\n"
     ]
    }
   ],
   "source": [
    "# use the shapiro function to find the test statistic and p-value\n",
    "# of 'prewt', 'postwt', and 'difwt' column, and print each of them.\n",
    "# shapiro test also returns test-statistic and p-value respectively\n",
    "\n",
    "print(\"pre-weight shapiro test:\",stats.shapiro(df['prewt']))\n",
    "print(\"\\npost-weight shapiro test:\",stats.shapiro(df['postwt']))\n",
    "print(\"\\nweight difference shapiro test:\",stats.shapiro(df['difwt']))"
   ]
  },
  {
   "cell_type": "code",
   "execution_count": 19,
   "metadata": {},
   "outputs": [
    {
     "name": "stdout",
     "output_type": "stream",
     "text": [
      "pre-weight shapiro test group 1: ShapiroResult(statistic=0.9699367880910525, pvalue=0.5579791117011859)\n",
      "\n",
      "pre-weight shapiro test group 2: ShapiroResult(statistic=0.9686855419768824, pvalue=0.5895333419280513)\n",
      "\n",
      "pre-weight shapiro test group 3: ShapiroResult(statistic=0.9882113576720248, pvalue=0.9972152751374112)\n"
     ]
    }
   ],
   "source": [
    "print(\"pre-weight shapiro test group 1:\",stats.shapiro(df['prewt'][df.group==1]))\n",
    "print(\"\\npre-weight shapiro test group 2:\",stats.shapiro(df['prewt'][df.group==2]))\n",
    "print(\"\\npre-weight shapiro test group 3:\",stats.shapiro(df['prewt'][df.group==3]))"
   ]
  },
  {
   "cell_type": "markdown",
   "metadata": {},
   "source": [
    "## Are the effects of each treatment different (one-way ANOVA)?\n",
    "\n",
    "Since there are 3 groups, we need to use ANOVA test to determine if the means (weight difference) are the same or not. The hypothesis is as follows:\n",
    "\n",
    "* H0: Mean (group 1) = Mean (group 2) = Mean (group 3).\n",
    "* H1: At least one pair has different means.\n",
    "\n",
    "### Let's look at this video: https://www.youtube.com/watch?v=leHF2OKwT80\n",
    "\n",
    "We can use the [````stats.f_oneway(a,b,c...)```](https://docs.scipy.org/doc/scipy/reference/generated/scipy.stats.f_oneway.html) to perform a one-way anova test, where a, b, c .. are each of the samples. The function returns the test statistic and p-value respectively."
   ]
  },
  {
   "cell_type": "code",
   "execution_count": 20,
   "metadata": {},
   "outputs": [],
   "source": [
    "# create separate dataframes for each of the treatment\n",
    "group_1 = df[df['group'] == 1]\n",
    "group_2 = df[df['group'] == 2]\n",
    "group_3 = df[df['group'] == 3]"
   ]
  },
  {
   "cell_type": "code",
   "execution_count": 21,
   "metadata": {},
   "outputs": [
    {
     "name": "stdout",
     "output_type": "stream",
     "text": [
      "F_onewayResult(statistic=5.422296868238271, pvalue=0.006498652980699682)\n"
     ]
    }
   ],
   "source": [
    "# use the stats.f_oneway function to see whether the means of 'difwt' column\n",
    "# are significantly different for at least one pair\n",
    "print(stats.f_oneway(group_1['difwt'], group_2['difwt'], group_3['difwt']))\n",
    "\n",
    "# you can carry out additional tukey's test using\n",
    "# the statsmodels library :)"
   ]
  },
  {
   "cell_type": "code",
   "execution_count": 22,
   "metadata": {},
   "outputs": [
    {
     "name": "stdout",
     "output_type": "stream",
     "text": [
      "F_onewayResult(statistic=0.5994852110154862, pvalue=0.5519287433856497)\n"
     ]
    }
   ],
   "source": [
    "print(stats.f_oneway(group_1['prewt'], group_2['prewt'], group_3['prewt']))\n"
   ]
  },
  {
   "cell_type": "markdown",
   "metadata": {},
   "source": [
    "---"
   ]
  }
 ],
 "metadata": {
  "kernelspec": {
   "display_name": "Python 3 (ipykernel)",
   "language": "python",
   "name": "python3"
  },
  "language_info": {
   "codemirror_mode": {
    "name": "ipython",
    "version": 3
   },
   "file_extension": ".py",
   "mimetype": "text/x-python",
   "name": "python",
   "nbconvert_exporter": "python",
   "pygments_lexer": "ipython3",
   "version": "3.11.6"
  }
 },
 "nbformat": 4,
 "nbformat_minor": 2
}