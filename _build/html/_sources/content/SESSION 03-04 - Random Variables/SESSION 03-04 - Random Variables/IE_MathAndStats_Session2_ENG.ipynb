{
 "cells": [
  {
   "cell_type": "markdown",
   "metadata": {},
   "source": [
    "# COURSE: Math & Stat\n",
    "\n",
    "<img src=\"img/profile_manoelgadi.png\" width=100 height=100 align=\"right\">\n",
    "\n",
    "Author: Prof. Manoel Gadi\n",
    "\n",
    "Contact: mfalonso@faculty.ie.edu\n",
    "\n",
    "LinkedIn: https://es.linkedin.com/in/manoel-gadi-97821213\n",
    "\n",
    "Last revision: 11/Jan/2022\n",
    "\n",
    "---"
   ]
  },
  {
   "cell_type": "markdown",
   "metadata": {},
   "source": [
    "## Session 2 - Random Variables\n",
    "\n",
    "## Data Types\n",
    "\n",
    "ref: https://www.medwave.cl/link.cgi/Medwave/Series/mbe01/4981\n",
    "\n",
    "In a database we can come across different types of data and depending on the type of data it will make sense or not to perform an operation."
   ]
  },
  {
   "cell_type": "markdown",
   "metadata": {},
   "source": [
    "### Qualitative data\n",
    "\n",
    "Although many times we find in the database values of categories 0 and 1, or 0, 1, 2, 3 ... N represent qualitative data categories. Qualitative values are those that cannot be expressed numerically, because the numerical order does not apply. That is, 2 does not represent twice the value of 1 for this data. They represent a quality or attribute that classifies each subject in one of several categories. Among them it is possible to distinguish:"
   ]
  },
  {
   "cell_type": "markdown",
   "metadata": {},
   "source": [
    "#### Binary (dichotomous) data\n",
    "\n",
    "These are data that cannot be expressed numerically. They represent a quality or attribute that classifies each subject in one of several categories. Among them it is possible to distinguish:\n",
    "\n",
    "    alive/dead: this is the clearest example (at least not many cases of intermediate states between life and death are known).\n",
    "    healthy/sick: requires a definition for the sick condition.\n",
    "    smoker/non-smoker.\n",
    "    response to treatment (+)/(-): criteria for therapeutic success were met or not.\n",
    "    male/female.\n",
    "    \n",
    "Values for groups of individuals are generally tabulated using contingency tables:\n",
    "\n",
    "And are expressed in terms of proportions or percentages:\n",
    "\n",
    "    Proportion of deceased.\n",
    "    Percentage of smokers. "
   ]
  },
  {
   "cell_type": "code",
   "execution_count": 1,
   "metadata": {},
   "outputs": [],
   "source": [
    "import pandas as pd"
   ]
  },
  {
   "cell_type": "code",
   "execution_count": 2,
   "metadata": {},
   "outputs": [],
   "source": [
    "df_tipo_datos = pd.read_csv(\"datasets/tipo_de_datos.csv\")"
   ]
  },
  {
   "cell_type": "code",
   "execution_count": 3,
   "metadata": {},
   "outputs": [
    {
     "data": {
      "text/plain": [
       "Index(['id', 'ib_var_1', 'ib_var_2', 'ib_var_3', 'ib_var_4', 'ib_var_5',\n",
       "       'ib_var_6', 'ib_var_7', 'ib_var_8', 'ib_var_9', 'ib_var_10',\n",
       "       'ib_var_11', 'ib_var_12', 'ib_var_13', 'ib_var_14', 'ib_var_15',\n",
       "       'ib_var_16', 'ib_var_17', 'ib_var_18', 'ib_var_19', 'ib_var_20',\n",
       "       'ib_var_21', 'icn_var_22', 'icn_var_23', 'icn_var_24', 'ico_var_25',\n",
       "       'ico_var_26', 'ico_var_27', 'ico_var_28', 'ico_var_29', 'ico_var_30',\n",
       "       'ico_var_31', 'ico_var_32', 'ico_var_33', 'ico_var_34', 'ico_var_35',\n",
       "       'ico_var_36', 'ico_var_37', 'ico_var_38', 'ico_var_39', 'ico_var_40',\n",
       "       'ico_var_41', 'ico_var_42', 'ico_var_43', 'ico_var_44', 'ico_var_45',\n",
       "       'ico_var_46', 'ico_var_47', 'ico_var_48', 'ico_var_49', 'ico_var_50',\n",
       "       'ico_var_51', 'ico_var_52', 'ico_var_53', 'ico_var_54', 'ico_var_55',\n",
       "       'ico_var_56', 'ico_var_57', 'ico_var_58', 'ico_var_59', 'ico_var_60',\n",
       "       'ico_var_61', 'ico_var_62', 'ico_var_63', 'ico_var_64', 'if_var_65',\n",
       "       'if_var_66', 'if_var_67', 'if_var_68', 'if_var_69', 'if_var_70',\n",
       "       'if_var_71', 'if_var_72', 'if_var_73', 'if_var_74', 'if_var_75',\n",
       "       'if_var_76', 'if_var_77', 'if_var_78', 'if_var_79', 'if_var_80',\n",
       "       'if_var_81', 'ob_target'],\n",
       "      dtype='object')"
      ]
     },
     "execution_count": 3,
     "metadata": {},
     "output_type": "execute_result"
    }
   ],
   "source": [
    "df_tipo_datos.columns"
   ]
  },
  {
   "cell_type": "code",
   "execution_count": 4,
   "metadata": {},
   "outputs": [
    {
     "data": {
      "text/html": [
       "<div>\n",
       "<style scoped>\n",
       "    .dataframe tbody tr th:only-of-type {\n",
       "        vertical-align: middle;\n",
       "    }\n",
       "\n",
       "    .dataframe tbody tr th {\n",
       "        vertical-align: top;\n",
       "    }\n",
       "\n",
       "    .dataframe thead th {\n",
       "        text-align: right;\n",
       "    }\n",
       "</style>\n",
       "<table border=\"1\" class=\"dataframe\">\n",
       "  <thead>\n",
       "    <tr style=\"text-align: right;\">\n",
       "      <th></th>\n",
       "      <th>ib_var_1</th>\n",
       "      <th>ib_var_2</th>\n",
       "      <th>ib_var_3</th>\n",
       "      <th>ib_var_4</th>\n",
       "      <th>ib_var_5</th>\n",
       "      <th>ib_var_6</th>\n",
       "      <th>ib_var_7</th>\n",
       "      <th>ib_var_8</th>\n",
       "      <th>ib_var_9</th>\n",
       "      <th>ib_var_10</th>\n",
       "      <th>...</th>\n",
       "      <th>ib_var_13</th>\n",
       "      <th>ib_var_14</th>\n",
       "      <th>ib_var_15</th>\n",
       "      <th>ib_var_16</th>\n",
       "      <th>ib_var_17</th>\n",
       "      <th>ib_var_18</th>\n",
       "      <th>ib_var_19</th>\n",
       "      <th>ib_var_20</th>\n",
       "      <th>ib_var_21</th>\n",
       "      <th>icn_var_22</th>\n",
       "    </tr>\n",
       "  </thead>\n",
       "  <tbody>\n",
       "    <tr>\n",
       "      <th>0</th>\n",
       "      <td>0</td>\n",
       "      <td>1</td>\n",
       "      <td>0</td>\n",
       "      <td>0</td>\n",
       "      <td>1</td>\n",
       "      <td>1</td>\n",
       "      <td>0</td>\n",
       "      <td>0</td>\n",
       "      <td>0</td>\n",
       "      <td>0</td>\n",
       "      <td>...</td>\n",
       "      <td>0</td>\n",
       "      <td>1</td>\n",
       "      <td>1</td>\n",
       "      <td>1</td>\n",
       "      <td>0</td>\n",
       "      <td>1</td>\n",
       "      <td>1</td>\n",
       "      <td>1</td>\n",
       "      <td>0</td>\n",
       "      <td>2</td>\n",
       "    </tr>\n",
       "    <tr>\n",
       "      <th>1</th>\n",
       "      <td>0</td>\n",
       "      <td>1</td>\n",
       "      <td>0</td>\n",
       "      <td>0</td>\n",
       "      <td>0</td>\n",
       "      <td>1</td>\n",
       "      <td>0</td>\n",
       "      <td>0</td>\n",
       "      <td>0</td>\n",
       "      <td>0</td>\n",
       "      <td>...</td>\n",
       "      <td>0</td>\n",
       "      <td>0</td>\n",
       "      <td>1</td>\n",
       "      <td>1</td>\n",
       "      <td>1</td>\n",
       "      <td>0</td>\n",
       "      <td>1</td>\n",
       "      <td>1</td>\n",
       "      <td>1</td>\n",
       "      <td>3</td>\n",
       "    </tr>\n",
       "    <tr>\n",
       "      <th>2</th>\n",
       "      <td>0</td>\n",
       "      <td>0</td>\n",
       "      <td>0</td>\n",
       "      <td>0</td>\n",
       "      <td>1</td>\n",
       "      <td>1</td>\n",
       "      <td>0</td>\n",
       "      <td>0</td>\n",
       "      <td>0</td>\n",
       "      <td>0</td>\n",
       "      <td>...</td>\n",
       "      <td>0</td>\n",
       "      <td>1</td>\n",
       "      <td>1</td>\n",
       "      <td>1</td>\n",
       "      <td>1</td>\n",
       "      <td>0</td>\n",
       "      <td>1</td>\n",
       "      <td>1</td>\n",
       "      <td>1</td>\n",
       "      <td>4</td>\n",
       "    </tr>\n",
       "    <tr>\n",
       "      <th>3</th>\n",
       "      <td>0</td>\n",
       "      <td>1</td>\n",
       "      <td>0</td>\n",
       "      <td>1</td>\n",
       "      <td>1</td>\n",
       "      <td>1</td>\n",
       "      <td>0</td>\n",
       "      <td>0</td>\n",
       "      <td>0</td>\n",
       "      <td>0</td>\n",
       "      <td>...</td>\n",
       "      <td>1</td>\n",
       "      <td>1</td>\n",
       "      <td>1</td>\n",
       "      <td>0</td>\n",
       "      <td>1</td>\n",
       "      <td>0</td>\n",
       "      <td>1</td>\n",
       "      <td>0</td>\n",
       "      <td>1</td>\n",
       "      <td>2</td>\n",
       "    </tr>\n",
       "    <tr>\n",
       "      <th>4</th>\n",
       "      <td>0</td>\n",
       "      <td>0</td>\n",
       "      <td>0</td>\n",
       "      <td>0</td>\n",
       "      <td>0</td>\n",
       "      <td>1</td>\n",
       "      <td>0</td>\n",
       "      <td>0</td>\n",
       "      <td>0</td>\n",
       "      <td>0</td>\n",
       "      <td>...</td>\n",
       "      <td>0</td>\n",
       "      <td>0</td>\n",
       "      <td>1</td>\n",
       "      <td>1</td>\n",
       "      <td>1</td>\n",
       "      <td>0</td>\n",
       "      <td>1</td>\n",
       "      <td>1</td>\n",
       "      <td>1</td>\n",
       "      <td>3</td>\n",
       "    </tr>\n",
       "  </tbody>\n",
       "</table>\n",
       "<p>5 rows × 22 columns</p>\n",
       "</div>"
      ],
      "text/plain": [
       "   ib_var_1  ib_var_2  ib_var_3  ib_var_4  ib_var_5  ib_var_6  ib_var_7  \\\n",
       "0         0         1         0         0         1         1         0   \n",
       "1         0         1         0         0         0         1         0   \n",
       "2         0         0         0         0         1         1         0   \n",
       "3         0         1         0         1         1         1         0   \n",
       "4         0         0         0         0         0         1         0   \n",
       "\n",
       "   ib_var_8  ib_var_9  ib_var_10  ...  ib_var_13  ib_var_14  ib_var_15  \\\n",
       "0         0         0          0  ...          0          1          1   \n",
       "1         0         0          0  ...          0          0          1   \n",
       "2         0         0          0  ...          0          1          1   \n",
       "3         0         0          0  ...          1          1          1   \n",
       "4         0         0          0  ...          0          0          1   \n",
       "\n",
       "   ib_var_16  ib_var_17  ib_var_18  ib_var_19  ib_var_20  ib_var_21  \\\n",
       "0          1          0          1          1          1          0   \n",
       "1          1          1          0          1          1          1   \n",
       "2          1          1          0          1          1          1   \n",
       "3          0          1          0          1          0          1   \n",
       "4          1          1          0          1          1          1   \n",
       "\n",
       "   icn_var_22  \n",
       "0           2  \n",
       "1           3  \n",
       "2           4  \n",
       "3           2  \n",
       "4           3  \n",
       "\n",
       "[5 rows x 22 columns]"
      ]
     },
     "execution_count": 4,
     "metadata": {},
     "output_type": "execute_result"
    }
   ],
   "source": [
    "df_tipo_datos[['ib_var_1', 'ib_var_2', 'ib_var_3', 'ib_var_4', 'ib_var_5',\n",
    "       'ib_var_6', 'ib_var_7', 'ib_var_8', 'ib_var_9', 'ib_var_10',\n",
    "       'ib_var_11', 'ib_var_12', 'ib_var_13', 'ib_var_14', 'ib_var_15',\n",
    "       'ib_var_16', 'ib_var_17', 'ib_var_18', 'ib_var_19', 'ib_var_20',\n",
    "       'ib_var_21', 'icn_var_22']].head()"
   ]
  },
  {
   "cell_type": "code",
   "execution_count": 5,
   "metadata": {},
   "outputs": [],
   "source": [
    "df = df_tipo_datos"
   ]
  },
  {
   "cell_type": "code",
   "execution_count": 10,
   "metadata": {},
   "outputs": [
    {
     "data": {
      "text/plain": [
       "0    0.914352\n",
       "1    0.085648\n",
       "Name: ib_var_1, dtype: float64"
      ]
     },
     "execution_count": 10,
     "metadata": {},
     "output_type": "execute_result"
    }
   ],
   "source": [
    "df['ib_var_1'].value_counts(normalize=True)"
   ]
  },
  {
   "cell_type": "markdown",
   "metadata": {},
   "source": [
    "### Categorical data (multicotomics)\n",
    "\n",
    "There is a limited number but greater than two of possible values. The categories can be in turn:\n",
    "\n",
    "__Nominals__: there is no inherent order among the categories, for example:\n",
    "\n",
    "    Race: Black, White, Asian, Latino.\n",
    "    Blood group: A, B, O, AB.\n"
   ]
  },
  {
   "cell_type": "code",
   "execution_count": 5,
   "metadata": {},
   "outputs": [
    {
     "data": {
      "text/html": [
       "<div>\n",
       "<style scoped>\n",
       "    .dataframe tbody tr th:only-of-type {\n",
       "        vertical-align: middle;\n",
       "    }\n",
       "\n",
       "    .dataframe tbody tr th {\n",
       "        vertical-align: top;\n",
       "    }\n",
       "\n",
       "    .dataframe thead th {\n",
       "        text-align: right;\n",
       "    }\n",
       "</style>\n",
       "<table border=\"1\" class=\"dataframe\">\n",
       "  <thead>\n",
       "    <tr style=\"text-align: right;\">\n",
       "      <th></th>\n",
       "      <th>icn_var_22</th>\n",
       "      <th>icn_var_23</th>\n",
       "      <th>icn_var_24</th>\n",
       "    </tr>\n",
       "  </thead>\n",
       "  <tbody>\n",
       "    <tr>\n",
       "      <th>0</th>\n",
       "      <td>2</td>\n",
       "      <td>1</td>\n",
       "      <td>2</td>\n",
       "    </tr>\n",
       "    <tr>\n",
       "      <th>1</th>\n",
       "      <td>3</td>\n",
       "      <td>1</td>\n",
       "      <td>1</td>\n",
       "    </tr>\n",
       "    <tr>\n",
       "      <th>2</th>\n",
       "      <td>4</td>\n",
       "      <td>1</td>\n",
       "      <td>1</td>\n",
       "    </tr>\n",
       "    <tr>\n",
       "      <th>3</th>\n",
       "      <td>2</td>\n",
       "      <td>1</td>\n",
       "      <td>3</td>\n",
       "    </tr>\n",
       "    <tr>\n",
       "      <th>4</th>\n",
       "      <td>3</td>\n",
       "      <td>1</td>\n",
       "      <td>1</td>\n",
       "    </tr>\n",
       "  </tbody>\n",
       "</table>\n",
       "</div>"
      ],
      "text/plain": [
       "   icn_var_22  icn_var_23  icn_var_24\n",
       "0           2           1           2\n",
       "1           3           1           1\n",
       "2           4           1           1\n",
       "3           2           1           3\n",
       "4           3           1           1"
      ]
     },
     "execution_count": 5,
     "metadata": {},
     "output_type": "execute_result"
    }
   ],
   "source": [
    "df_tipo_datos[['icn_var_22', 'icn_var_23', 'icn_var_24']].head()"
   ]
  },
  {
   "cell_type": "markdown",
   "metadata": {},
   "source": [
    "Ordinal: the possible values of the data have an order, precedence or hierarchy (either natural, or assigned according to some preference); they are generally expressed as scales:\n",
    "\n",
    "    Tumor stage: I, II, III, IV.\n",
    "    Severity of depression: mild, moderate, severe."
   ]
  },
  {
   "cell_type": "code",
   "execution_count": 11,
   "metadata": {},
   "outputs": [
    {
     "data": {
      "text/plain": [
       "1      1\n",
       "2     14\n",
       "3    166\n",
       "4    474\n",
       "5    209\n",
       "Name: ico_var_25, dtype: int64"
      ]
     },
     "execution_count": 11,
     "metadata": {},
     "output_type": "execute_result"
    }
   ],
   "source": [
    "df['ico_var_25'].value_counts().sort_index()"
   ]
  },
  {
   "cell_type": "code",
   "execution_count": 6,
   "metadata": {},
   "outputs": [
    {
     "data": {
      "text/html": [
       "<div>\n",
       "<style scoped>\n",
       "    .dataframe tbody tr th:only-of-type {\n",
       "        vertical-align: middle;\n",
       "    }\n",
       "\n",
       "    .dataframe tbody tr th {\n",
       "        vertical-align: top;\n",
       "    }\n",
       "\n",
       "    .dataframe thead th {\n",
       "        text-align: right;\n",
       "    }\n",
       "</style>\n",
       "<table border=\"1\" class=\"dataframe\">\n",
       "  <thead>\n",
       "    <tr style=\"text-align: right;\">\n",
       "      <th></th>\n",
       "      <th>ico_var_25</th>\n",
       "      <th>ico_var_26</th>\n",
       "      <th>ico_var_27</th>\n",
       "      <th>ico_var_28</th>\n",
       "      <th>ico_var_29</th>\n",
       "      <th>ico_var_30</th>\n",
       "      <th>ico_var_31</th>\n",
       "      <th>ico_var_32</th>\n",
       "      <th>ico_var_33</th>\n",
       "      <th>ico_var_34</th>\n",
       "      <th>...</th>\n",
       "      <th>ico_var_55</th>\n",
       "      <th>ico_var_56</th>\n",
       "      <th>ico_var_57</th>\n",
       "      <th>ico_var_58</th>\n",
       "      <th>ico_var_59</th>\n",
       "      <th>ico_var_60</th>\n",
       "      <th>ico_var_61</th>\n",
       "      <th>ico_var_62</th>\n",
       "      <th>ico_var_63</th>\n",
       "      <th>ico_var_64</th>\n",
       "    </tr>\n",
       "  </thead>\n",
       "  <tbody>\n",
       "    <tr>\n",
       "      <th>0</th>\n",
       "      <td>4</td>\n",
       "      <td>4</td>\n",
       "      <td>4</td>\n",
       "      <td>4</td>\n",
       "      <td>5</td>\n",
       "      <td>4</td>\n",
       "      <td>4</td>\n",
       "      <td>3</td>\n",
       "      <td>11</td>\n",
       "      <td>15</td>\n",
       "      <td>...</td>\n",
       "      <td>2</td>\n",
       "      <td>3</td>\n",
       "      <td>1</td>\n",
       "      <td>4</td>\n",
       "      <td>3</td>\n",
       "      <td>3</td>\n",
       "      <td>2</td>\n",
       "      <td>4</td>\n",
       "      <td>3</td>\n",
       "      <td>1</td>\n",
       "    </tr>\n",
       "    <tr>\n",
       "      <th>1</th>\n",
       "      <td>5</td>\n",
       "      <td>5</td>\n",
       "      <td>4</td>\n",
       "      <td>5</td>\n",
       "      <td>4</td>\n",
       "      <td>4</td>\n",
       "      <td>5</td>\n",
       "      <td>5</td>\n",
       "      <td>3</td>\n",
       "      <td>12</td>\n",
       "      <td>...</td>\n",
       "      <td>1</td>\n",
       "      <td>3</td>\n",
       "      <td>1</td>\n",
       "      <td>4</td>\n",
       "      <td>1</td>\n",
       "      <td>2</td>\n",
       "      <td>2</td>\n",
       "      <td>5</td>\n",
       "      <td>1</td>\n",
       "      <td>1</td>\n",
       "    </tr>\n",
       "    <tr>\n",
       "      <th>2</th>\n",
       "      <td>4</td>\n",
       "      <td>4</td>\n",
       "      <td>4</td>\n",
       "      <td>4</td>\n",
       "      <td>4</td>\n",
       "      <td>4</td>\n",
       "      <td>4</td>\n",
       "      <td>4</td>\n",
       "      <td>1</td>\n",
       "      <td>8</td>\n",
       "      <td>...</td>\n",
       "      <td>1</td>\n",
       "      <td>1</td>\n",
       "      <td>2</td>\n",
       "      <td>4</td>\n",
       "      <td>2</td>\n",
       "      <td>2</td>\n",
       "      <td>2</td>\n",
       "      <td>4</td>\n",
       "      <td>2</td>\n",
       "      <td>2</td>\n",
       "    </tr>\n",
       "    <tr>\n",
       "      <th>3</th>\n",
       "      <td>4</td>\n",
       "      <td>4</td>\n",
       "      <td>4</td>\n",
       "      <td>5</td>\n",
       "      <td>4</td>\n",
       "      <td>3</td>\n",
       "      <td>4</td>\n",
       "      <td>5</td>\n",
       "      <td>2</td>\n",
       "      <td>6</td>\n",
       "      <td>...</td>\n",
       "      <td>3</td>\n",
       "      <td>3</td>\n",
       "      <td>3</td>\n",
       "      <td>4</td>\n",
       "      <td>1</td>\n",
       "      <td>1</td>\n",
       "      <td>2</td>\n",
       "      <td>2</td>\n",
       "      <td>2</td>\n",
       "      <td>2</td>\n",
       "    </tr>\n",
       "    <tr>\n",
       "      <th>4</th>\n",
       "      <td>4</td>\n",
       "      <td>4</td>\n",
       "      <td>4</td>\n",
       "      <td>4</td>\n",
       "      <td>4</td>\n",
       "      <td>4</td>\n",
       "      <td>4</td>\n",
       "      <td>4</td>\n",
       "      <td>1</td>\n",
       "      <td>7</td>\n",
       "      <td>...</td>\n",
       "      <td>2</td>\n",
       "      <td>3</td>\n",
       "      <td>2</td>\n",
       "      <td>4</td>\n",
       "      <td>3</td>\n",
       "      <td>2</td>\n",
       "      <td>2</td>\n",
       "      <td>4</td>\n",
       "      <td>1</td>\n",
       "      <td>2</td>\n",
       "    </tr>\n",
       "  </tbody>\n",
       "</table>\n",
       "<p>5 rows × 40 columns</p>\n",
       "</div>"
      ],
      "text/plain": [
       "   ico_var_25  ico_var_26  ico_var_27  ico_var_28  ico_var_29  ico_var_30  \\\n",
       "0           4           4           4           4           5           4   \n",
       "1           5           5           4           5           4           4   \n",
       "2           4           4           4           4           4           4   \n",
       "3           4           4           4           5           4           3   \n",
       "4           4           4           4           4           4           4   \n",
       "\n",
       "   ico_var_31  ico_var_32  ico_var_33  ico_var_34  ...  ico_var_55  \\\n",
       "0           4           3          11          15  ...           2   \n",
       "1           5           5           3          12  ...           1   \n",
       "2           4           4           1           8  ...           1   \n",
       "3           4           5           2           6  ...           3   \n",
       "4           4           4           1           7  ...           2   \n",
       "\n",
       "   ico_var_56  ico_var_57  ico_var_58  ico_var_59  ico_var_60  ico_var_61  \\\n",
       "0           3           1           4           3           3           2   \n",
       "1           3           1           4           1           2           2   \n",
       "2           1           2           4           2           2           2   \n",
       "3           3           3           4           1           1           2   \n",
       "4           3           2           4           3           2           2   \n",
       "\n",
       "   ico_var_62  ico_var_63  ico_var_64  \n",
       "0           4           3           1  \n",
       "1           5           1           1  \n",
       "2           4           2           2  \n",
       "3           2           2           2  \n",
       "4           4           1           2  \n",
       "\n",
       "[5 rows x 40 columns]"
      ]
     },
     "execution_count": 6,
     "metadata": {},
     "output_type": "execute_result"
    }
   ],
   "source": [
    "df_tipo_datos[['ico_var_25',\n",
    "       'ico_var_26', 'ico_var_27', 'ico_var_28', 'ico_var_29', 'ico_var_30',\n",
    "       'ico_var_31', 'ico_var_32', 'ico_var_33', 'ico_var_34', 'ico_var_35',\n",
    "       'ico_var_36', 'ico_var_37', 'ico_var_38', 'ico_var_39', 'ico_var_40',\n",
    "       'ico_var_41', 'ico_var_42', 'ico_var_43', 'ico_var_44', 'ico_var_45',\n",
    "       'ico_var_46', 'ico_var_47', 'ico_var_48', 'ico_var_49', 'ico_var_50',\n",
    "       'ico_var_51', 'ico_var_52', 'ico_var_53', 'ico_var_54', 'ico_var_55',\n",
    "       'ico_var_56', 'ico_var_57', 'ico_var_58', 'ico_var_59', 'ico_var_60',\n",
    "       'ico_var_61', 'ico_var_62', 'ico_var_63', 'ico_var_64']].head()"
   ]
  },
  {
   "cell_type": "markdown",
   "metadata": {},
   "source": [
    "### Quantitative Data\n",
    "\n",
    "They are those that can be measured or quantified (that can be counted). They can be of two types:\n",
    "\n"
   ]
  },
  {
   "cell_type": "markdown",
   "metadata": {},
   "source": [
    "#### Continuous quantitative data\n",
    "\n",
    "There is a continuum of possible values of the variable, which is not restricted to integer values (although they can be reduced to integer values -discrete- by approximation). Values are \"measured\" rather than counted.\n",
    "\n",
    "Examples:\n",
    "\n",
    "    Blood pressure.\n",
    "    Age.\n",
    "    Cholesterolemia.\n",
    "\n",
    "\n",
    "Most of the time, when analyzed in a group of individuals, these variables are expressed in terms of the average value of the variable in the group:\n",
    "\n",
    "    Average age: 25.3 years.\n",
    "    Cholesterolemia: 158.1 mg/dl.\n",
    "\n",
    "\n",
    "Occasionally, by prior convention or on the researcher's initiative (e.g., to facilitate data analysis), continuous data are grouped into categories according to whether their values fall within certain ranges, or above or below a certain threshold, and are treated as discrete variables:\n",
    "\n",
    "    Blood pressure variable expressed as dichotomous data: normotension / hypertension.\n",
    "    Age variable expressed as categorical data: Young adult / Adult / Older adult.\n",
    "\n"
   ]
  },
  {
   "cell_type": "code",
   "execution_count": 12,
   "metadata": {},
   "outputs": [
    {
     "data": {
      "text/html": [
       "<div>\n",
       "<style scoped>\n",
       "    .dataframe tbody tr th:only-of-type {\n",
       "        vertical-align: middle;\n",
       "    }\n",
       "\n",
       "    .dataframe tbody tr th {\n",
       "        vertical-align: top;\n",
       "    }\n",
       "\n",
       "    .dataframe thead th {\n",
       "        text-align: right;\n",
       "    }\n",
       "</style>\n",
       "<table border=\"1\" class=\"dataframe\">\n",
       "  <thead>\n",
       "    <tr style=\"text-align: right;\">\n",
       "      <th></th>\n",
       "      <th>if_var_68</th>\n",
       "      <th>if_var_69</th>\n",
       "      <th>if_var_73</th>\n",
       "      <th>if_var_77</th>\n",
       "      <th>if_var_78</th>\n",
       "      <th>if_var_79</th>\n",
       "      <th>if_var_80</th>\n",
       "    </tr>\n",
       "  </thead>\n",
       "  <tbody>\n",
       "    <tr>\n",
       "      <th>count</th>\n",
       "      <td>864.000000</td>\n",
       "      <td>864.000000</td>\n",
       "      <td>864.000000</td>\n",
       "      <td>864.000000</td>\n",
       "      <td>864.000000</td>\n",
       "      <td>864.000000</td>\n",
       "      <td>864.000000</td>\n",
       "    </tr>\n",
       "    <tr>\n",
       "      <th>mean</th>\n",
       "      <td>2244.683796</td>\n",
       "      <td>8060.468592</td>\n",
       "      <td>0.791319</td>\n",
       "      <td>0.582948</td>\n",
       "      <td>9.780569</td>\n",
       "      <td>4229.071769</td>\n",
       "      <td>0.692168</td>\n",
       "    </tr>\n",
       "    <tr>\n",
       "      <th>std</th>\n",
       "      <td>2333.457953</td>\n",
       "      <td>8553.489952</td>\n",
       "      <td>0.103417</td>\n",
       "      <td>0.134314</td>\n",
       "      <td>7.925068</td>\n",
       "      <td>2976.357954</td>\n",
       "      <td>0.092525</td>\n",
       "    </tr>\n",
       "    <tr>\n",
       "      <th>min</th>\n",
       "      <td>102.800000</td>\n",
       "      <td>1.079400</td>\n",
       "      <td>0.475000</td>\n",
       "      <td>0.200000</td>\n",
       "      <td>0.073200</td>\n",
       "      <td>3.084000</td>\n",
       "      <td>0.300000</td>\n",
       "    </tr>\n",
       "    <tr>\n",
       "      <th>25%</th>\n",
       "      <td>719.600000</td>\n",
       "      <td>2570.000000</td>\n",
       "      <td>0.725000</td>\n",
       "      <td>0.500000</td>\n",
       "      <td>3.780500</td>\n",
       "      <td>2056.000000</td>\n",
       "      <td>0.600000</td>\n",
       "    </tr>\n",
       "    <tr>\n",
       "      <th>50%</th>\n",
       "      <td>1234.200000</td>\n",
       "      <td>5019.700000</td>\n",
       "      <td>0.800000</td>\n",
       "      <td>0.600000</td>\n",
       "      <td>7.646300</td>\n",
       "      <td>3598.000000</td>\n",
       "      <td>0.700000</td>\n",
       "    </tr>\n",
       "    <tr>\n",
       "      <th>75%</th>\n",
       "      <td>2570.000000</td>\n",
       "      <td>9252.000000</td>\n",
       "      <td>0.850000</td>\n",
       "      <td>0.666667</td>\n",
       "      <td>13.378075</td>\n",
       "      <td>5140.000000</td>\n",
       "      <td>0.766667</td>\n",
       "    </tr>\n",
       "    <tr>\n",
       "      <th>max</th>\n",
       "      <td>8738.000000</td>\n",
       "      <td>34512.500000</td>\n",
       "      <td>1.000000</td>\n",
       "      <td>1.000000</td>\n",
       "      <td>45.568500</td>\n",
       "      <td>15294.000000</td>\n",
       "      <td>1.000000</td>\n",
       "    </tr>\n",
       "  </tbody>\n",
       "</table>\n",
       "</div>"
      ],
      "text/plain": [
       "         if_var_68     if_var_69   if_var_73   if_var_77   if_var_78  \\\n",
       "count   864.000000    864.000000  864.000000  864.000000  864.000000   \n",
       "mean   2244.683796   8060.468592    0.791319    0.582948    9.780569   \n",
       "std    2333.457953   8553.489952    0.103417    0.134314    7.925068   \n",
       "min     102.800000      1.079400    0.475000    0.200000    0.073200   \n",
       "25%     719.600000   2570.000000    0.725000    0.500000    3.780500   \n",
       "50%    1234.200000   5019.700000    0.800000    0.600000    7.646300   \n",
       "75%    2570.000000   9252.000000    0.850000    0.666667   13.378075   \n",
       "max    8738.000000  34512.500000    1.000000    1.000000   45.568500   \n",
       "\n",
       "          if_var_79   if_var_80  \n",
       "count    864.000000  864.000000  \n",
       "mean    4229.071769    0.692168  \n",
       "std     2976.357954    0.092525  \n",
       "min        3.084000    0.300000  \n",
       "25%     2056.000000    0.600000  \n",
       "50%     3598.000000    0.700000  \n",
       "75%     5140.000000    0.766667  \n",
       "max    15294.000000    1.000000  "
      ]
     },
     "execution_count": 12,
     "metadata": {},
     "output_type": "execute_result"
    }
   ],
   "source": [
    "df_tipo_datos[['if_var_68', 'if_var_69', 'if_var_73', 'if_var_77', 'if_var_78', 'if_var_79',\n",
    "               'if_var_80']].describe()"
   ]
  },
  {
   "cell_type": "code",
   "execution_count": 13,
   "metadata": {},
   "outputs": [
    {
     "data": {
      "text/plain": [
       "(864, 83)"
      ]
     },
     "execution_count": 13,
     "metadata": {},
     "output_type": "execute_result"
    }
   ],
   "source": [
    "df.shape"
   ]
  },
  {
   "cell_type": "code",
   "execution_count": 17,
   "metadata": {},
   "outputs": [
    {
     "data": {
      "text/plain": [
       "0.582947539120372"
      ]
     },
     "execution_count": 17,
     "metadata": {},
     "output_type": "execute_result"
    }
   ],
   "source": [
    "df['if_var_77'].mean()"
   ]
  },
  {
   "cell_type": "code",
   "execution_count": 19,
   "metadata": {},
   "outputs": [],
   "source": [
    "#this is for the t-test\n",
    "from scipy import stats"
   ]
  },
  {
   "cell_type": "code",
   "execution_count": 22,
   "metadata": {},
   "outputs": [
    {
     "data": {
      "text/plain": [
       "['ConstantInputWarning',\n",
       " 'DegenerateDataWarning',\n",
       " 'FitError',\n",
       " 'NearConstantInputWarning',\n",
       " 'NumericalInverseHermite',\n",
       " '__all__',\n",
       " '__builtins__',\n",
       " '__cached__',\n",
       " '__doc__',\n",
       " '__file__',\n",
       " '__loader__',\n",
       " '__name__',\n",
       " '__package__',\n",
       " '__path__',\n",
       " '__spec__',\n",
       " '_axis_nan_policy',\n",
       " '_biasedurn',\n",
       " '_binned_statistic',\n",
       " '_binomtest',\n",
       " '_boost',\n",
       " '_common',\n",
       " '_constants',\n",
       " '_continuous_distns',\n",
       " '_crosstab',\n",
       " '_discrete_distns',\n",
       " '_distn_infrastructure',\n",
       " '_distr_params',\n",
       " '_entropy',\n",
       " '_fit',\n",
       " '_hypotests',\n",
       " '_hypotests_pythran',\n",
       " '_kde',\n",
       " '_ksstats',\n",
       " '_levy_stable',\n",
       " '_mannwhitneyu',\n",
       " '_morestats',\n",
       " '_mstats_basic',\n",
       " '_mstats_extras',\n",
       " '_multivariate',\n",
       " '_mvn',\n",
       " '_page_trend_test',\n",
       " '_qmc',\n",
       " '_qmc_cy',\n",
       " '_relative_risk',\n",
       " '_resampling',\n",
       " '_rvs_sampling',\n",
       " '_sobol',\n",
       " '_statlib',\n",
       " '_stats',\n",
       " '_stats_mstats_common',\n",
       " '_stats_py',\n",
       " '_tukeylambda_stats',\n",
       " '_unuran',\n",
       " '_variation',\n",
       " '_warnings_errors',\n",
       " 'alexandergovern',\n",
       " 'alpha',\n",
       " 'anderson',\n",
       " 'anderson_ksamp',\n",
       " 'anglit',\n",
       " 'ansari',\n",
       " 'arcsine',\n",
       " 'argus',\n",
       " 'barnard_exact',\n",
       " 'bartlett',\n",
       " 'bayes_mvs',\n",
       " 'bernoulli',\n",
       " 'beta',\n",
       " 'betabinom',\n",
       " 'betaprime',\n",
       " 'biasedurn',\n",
       " 'binned_statistic',\n",
       " 'binned_statistic_2d',\n",
       " 'binned_statistic_dd',\n",
       " 'binom',\n",
       " 'binom_test',\n",
       " 'binomtest',\n",
       " 'boltzmann',\n",
       " 'bootstrap',\n",
       " 'boschloo_exact',\n",
       " 'boxcox',\n",
       " 'boxcox_llf',\n",
       " 'boxcox_normmax',\n",
       " 'boxcox_normplot',\n",
       " 'bradford',\n",
       " 'brunnermunzel',\n",
       " 'burr',\n",
       " 'burr12',\n",
       " 'cauchy',\n",
       " 'chi',\n",
       " 'chi2',\n",
       " 'chi2_contingency',\n",
       " 'chisquare',\n",
       " 'circmean',\n",
       " 'circstd',\n",
       " 'circvar',\n",
       " 'combine_pvalues',\n",
       " 'contingency',\n",
       " 'cosine',\n",
       " 'cramervonmises',\n",
       " 'cramervonmises_2samp',\n",
       " 'crystalball',\n",
       " 'cumfreq',\n",
       " 'describe',\n",
       " 'dgamma',\n",
       " 'differential_entropy',\n",
       " 'dirichlet',\n",
       " 'distributions',\n",
       " 'dlaplace',\n",
       " 'dweibull',\n",
       " 'energy_distance',\n",
       " 'entropy',\n",
       " 'epps_singleton_2samp',\n",
       " 'erlang',\n",
       " 'expon',\n",
       " 'exponnorm',\n",
       " 'exponpow',\n",
       " 'exponweib',\n",
       " 'f',\n",
       " 'f_oneway',\n",
       " 'fatiguelife',\n",
       " 'find_repeats',\n",
       " 'fisher_exact',\n",
       " 'fisk',\n",
       " 'fit',\n",
       " 'fligner',\n",
       " 'foldcauchy',\n",
       " 'foldnorm',\n",
       " 'friedmanchisquare',\n",
       " 'gamma',\n",
       " 'gausshyper',\n",
       " 'gaussian_kde',\n",
       " 'genexpon',\n",
       " 'genextreme',\n",
       " 'gengamma',\n",
       " 'genhalflogistic',\n",
       " 'genhyperbolic',\n",
       " 'geninvgauss',\n",
       " 'genlogistic',\n",
       " 'gennorm',\n",
       " 'genpareto',\n",
       " 'geom',\n",
       " 'gibrat',\n",
       " 'gilbrat',\n",
       " 'gmean',\n",
       " 'gompertz',\n",
       " 'gstd',\n",
       " 'gumbel_l',\n",
       " 'gumbel_r',\n",
       " 'gzscore',\n",
       " 'halfcauchy',\n",
       " 'halfgennorm',\n",
       " 'halflogistic',\n",
       " 'halfnorm',\n",
       " 'hmean',\n",
       " 'hypergeom',\n",
       " 'hypsecant',\n",
       " 'invgamma',\n",
       " 'invgauss',\n",
       " 'invweibull',\n",
       " 'invwishart',\n",
       " 'iqr',\n",
       " 'jarque_bera',\n",
       " 'johnsonsb',\n",
       " 'johnsonsu',\n",
       " 'kappa3',\n",
       " 'kappa4',\n",
       " 'kde',\n",
       " 'kendalltau',\n",
       " 'kruskal',\n",
       " 'ks_1samp',\n",
       " 'ks_2samp',\n",
       " 'ksone',\n",
       " 'kstat',\n",
       " 'kstatvar',\n",
       " 'kstest',\n",
       " 'kstwo',\n",
       " 'kstwobign',\n",
       " 'kurtosis',\n",
       " 'kurtosistest',\n",
       " 'laplace',\n",
       " 'laplace_asymmetric',\n",
       " 'levene',\n",
       " 'levy',\n",
       " 'levy_l',\n",
       " 'levy_stable',\n",
       " 'linregress',\n",
       " 'loggamma',\n",
       " 'logistic',\n",
       " 'loglaplace',\n",
       " 'lognorm',\n",
       " 'logser',\n",
       " 'loguniform',\n",
       " 'lomax',\n",
       " 'mannwhitneyu',\n",
       " 'matrix_normal',\n",
       " 'maxwell',\n",
       " 'median_abs_deviation',\n",
       " 'median_test',\n",
       " 'mielke',\n",
       " 'mode',\n",
       " 'moment',\n",
       " 'monte_carlo_test',\n",
       " 'mood',\n",
       " 'morestats',\n",
       " 'moyal',\n",
       " 'mstats',\n",
       " 'mstats_basic',\n",
       " 'mstats_extras',\n",
       " 'multinomial',\n",
       " 'multiscale_graphcorr',\n",
       " 'multivariate_hypergeom',\n",
       " 'multivariate_normal',\n",
       " 'multivariate_t',\n",
       " 'mvn',\n",
       " 'mvsdist',\n",
       " 'nakagami',\n",
       " 'nbinom',\n",
       " 'ncf',\n",
       " 'nchypergeom_fisher',\n",
       " 'nchypergeom_wallenius',\n",
       " 'nct',\n",
       " 'ncx2',\n",
       " 'nhypergeom',\n",
       " 'norm',\n",
       " 'normaltest',\n",
       " 'norminvgauss',\n",
       " 'obrientransform',\n",
       " 'ortho_group',\n",
       " 'page_trend_test',\n",
       " 'pareto',\n",
       " 'pearson3',\n",
       " 'pearsonr',\n",
       " 'percentileofscore',\n",
       " 'permutation_test',\n",
       " 'planck',\n",
       " 'pmean',\n",
       " 'pointbiserialr',\n",
       " 'poisson',\n",
       " 'power_divergence',\n",
       " 'powerlaw',\n",
       " 'powerlognorm',\n",
       " 'powernorm',\n",
       " 'ppcc_max',\n",
       " 'ppcc_plot',\n",
       " 'probplot',\n",
       " 'qmc',\n",
       " 'randint',\n",
       " 'random_correlation',\n",
       " 'rankdata',\n",
       " 'ranksums',\n",
       " 'rayleigh',\n",
       " 'rdist',\n",
       " 'recipinvgauss',\n",
       " 'reciprocal',\n",
       " 'relfreq',\n",
       " 'rice',\n",
       " 'rv_continuous',\n",
       " 'rv_discrete',\n",
       " 'rv_histogram',\n",
       " 'rvs_ratio_uniforms',\n",
       " 'scoreatpercentile',\n",
       " 'sem',\n",
       " 'semicircular',\n",
       " 'shapiro',\n",
       " 'siegelslopes',\n",
       " 'sigmaclip',\n",
       " 'skellam',\n",
       " 'skew',\n",
       " 'skewcauchy',\n",
       " 'skewnorm',\n",
       " 'skewtest',\n",
       " 'somersd',\n",
       " 'spearmanr',\n",
       " 'special_ortho_group',\n",
       " 'statlib',\n",
       " 'stats',\n",
       " 'studentized_range',\n",
       " 't',\n",
       " 'test',\n",
       " 'theilslopes',\n",
       " 'tiecorrect',\n",
       " 'tmax',\n",
       " 'tmean',\n",
       " 'tmin',\n",
       " 'trapezoid',\n",
       " 'trapz',\n",
       " 'triang',\n",
       " 'trim1',\n",
       " 'trim_mean',\n",
       " 'trimboth',\n",
       " 'truncexpon',\n",
       " 'truncnorm',\n",
       " 'truncweibull_min',\n",
       " 'tsem',\n",
       " 'tstd',\n",
       " 'ttest_1samp',\n",
       " 'ttest_ind',\n",
       " 'ttest_ind_from_stats',\n",
       " 'ttest_rel',\n",
       " 'tukey_hsd',\n",
       " 'tukeylambda',\n",
       " 'tvar',\n",
       " 'uniform',\n",
       " 'unitary_group',\n",
       " 'variation',\n",
       " 'vonmises',\n",
       " 'vonmises_line',\n",
       " 'wald',\n",
       " 'wasserstein_distance',\n",
       " 'weibull_max',\n",
       " 'weibull_min',\n",
       " 'weightedtau',\n",
       " 'wilcoxon',\n",
       " 'wishart',\n",
       " 'wrapcauchy',\n",
       " 'yeojohnson',\n",
       " 'yeojohnson_llf',\n",
       " 'yeojohnson_normmax',\n",
       " 'yeojohnson_normplot',\n",
       " 'yulesimon',\n",
       " 'zipf',\n",
       " 'zipfian',\n",
       " 'zmap',\n",
       " 'zscore']"
      ]
     },
     "execution_count": 22,
     "metadata": {},
     "output_type": "execute_result"
    }
   ],
   "source": [
    "dir(stats)"
   ]
  },
  {
   "cell_type": "markdown",
   "metadata": {},
   "source": [
    "H0: The null hypothesis that the expected value (mean) of a sample of independent observations a is equal to the given population mean, popmean."
   ]
  },
  {
   "cell_type": "code",
   "execution_count": 23,
   "metadata": {
    "scrolled": true
   },
   "outputs": [
    {
     "data": {
      "text/plain": [
       "Ttest_1sampResult(statistic=127.57475360459071, pvalue=0.0)"
      ]
     },
     "execution_count": 23,
     "metadata": {},
     "output_type": "execute_result"
    }
   ],
   "source": [
    "stats.ttest_1samp(df['if_var_77'],0)"
   ]
  },
  {
   "cell_type": "markdown",
   "metadata": {},
   "source": [
    "p-value = 0 < 5%, therefore we reject the H0 (null hypothesis). The mean of if_var_77 is 0.582947539120372 and according to the t-test this is statiscally different from 0."
   ]
  },
  {
   "cell_type": "markdown",
   "metadata": {},
   "source": [
    "p-value is the probability of something happened."
   ]
  },
  {
   "cell_type": "markdown",
   "metadata": {},
   "source": [
    "#### Discrete quantitative data\n",
    "\n",
    "They do not admit intermediate values. They are enumerated (counted) rather than \"measured\". They usually take only integer values (number of children, number of births, number of siblings, etc).\n",
    "\n",
    "Most of the time, when analyzed in a group of individuals, these variables are also expressed in terms of the average value of the variable in the group."
   ]
  },
  {
   "cell_type": "code",
   "execution_count": 8,
   "metadata": {},
   "outputs": [
    {
     "data": {
      "text/html": [
       "<div>\n",
       "<style scoped>\n",
       "    .dataframe tbody tr th:only-of-type {\n",
       "        vertical-align: middle;\n",
       "    }\n",
       "\n",
       "    .dataframe tbody tr th {\n",
       "        vertical-align: top;\n",
       "    }\n",
       "\n",
       "    .dataframe thead th {\n",
       "        text-align: right;\n",
       "    }\n",
       "</style>\n",
       "<table border=\"1\" class=\"dataframe\">\n",
       "  <thead>\n",
       "    <tr style=\"text-align: right;\">\n",
       "      <th></th>\n",
       "      <th>if_var_65</th>\n",
       "      <th>if_var_66</th>\n",
       "      <th>if_var_67</th>\n",
       "      <th>if_var_74</th>\n",
       "      <th>if_var_75</th>\n",
       "      <th>if_var_76</th>\n",
       "      <th>if_var_81</th>\n",
       "    </tr>\n",
       "  </thead>\n",
       "  <tbody>\n",
       "    <tr>\n",
       "      <th>0</th>\n",
       "      <td>31</td>\n",
       "      <td>100</td>\n",
       "      <td>6</td>\n",
       "      <td>0</td>\n",
       "      <td>6</td>\n",
       "      <td>5</td>\n",
       "      <td>1</td>\n",
       "    </tr>\n",
       "    <tr>\n",
       "      <th>1</th>\n",
       "      <td>34</td>\n",
       "      <td>100</td>\n",
       "      <td>5</td>\n",
       "      <td>5</td>\n",
       "      <td>8</td>\n",
       "      <td>5</td>\n",
       "      <td>4</td>\n",
       "    </tr>\n",
       "    <tr>\n",
       "      <th>2</th>\n",
       "      <td>50</td>\n",
       "      <td>100</td>\n",
       "      <td>10</td>\n",
       "      <td>3</td>\n",
       "      <td>10</td>\n",
       "      <td>6</td>\n",
       "      <td>2</td>\n",
       "    </tr>\n",
       "    <tr>\n",
       "      <th>3</th>\n",
       "      <td>30</td>\n",
       "      <td>100</td>\n",
       "      <td>10</td>\n",
       "      <td>5</td>\n",
       "      <td>5</td>\n",
       "      <td>6</td>\n",
       "      <td>3</td>\n",
       "    </tr>\n",
       "    <tr>\n",
       "      <th>4</th>\n",
       "      <td>37</td>\n",
       "      <td>100</td>\n",
       "      <td>15</td>\n",
       "      <td>0</td>\n",
       "      <td>11</td>\n",
       "      <td>5</td>\n",
       "      <td>3</td>\n",
       "    </tr>\n",
       "  </tbody>\n",
       "</table>\n",
       "</div>"
      ],
      "text/plain": [
       "   if_var_65  if_var_66  if_var_67  if_var_74  if_var_75  if_var_76  if_var_81\n",
       "0         31        100          6          0          6          5          1\n",
       "1         34        100          5          5          8          5          4\n",
       "2         50        100         10          3         10          6          2\n",
       "3         30        100         10          5          5          6          3\n",
       "4         37        100         15          0         11          5          3"
      ]
     },
     "execution_count": 8,
     "metadata": {},
     "output_type": "execute_result"
    }
   ],
   "source": [
    "df_tipo_datos[['if_var_65',\n",
    "       'if_var_66', 'if_var_67', 'if_var_74', 'if_var_75',\n",
    "       'if_var_76', 'if_var_81']].head()"
   ]
  },
  {
   "cell_type": "code",
   "execution_count": null,
   "metadata": {},
   "outputs": [],
   "source": []
  },
  {
   "cell_type": "markdown",
   "metadata": {},
   "source": [
    "---"
   ]
  },
  {
   "cell_type": "markdown",
   "metadata": {},
   "source": [
    "---"
   ]
  },
  {
   "cell_type": "markdown",
   "metadata": {},
   "source": [
    "---"
   ]
  },
  {
   "cell_type": "markdown",
   "metadata": {},
   "source": [
    "# Descriptive Statistics - Concluding Remarks"
   ]
  },
  {
   "cell_type": "markdown",
   "metadata": {},
   "source": [
    "* Population__: set of individuals of interest.\n",
    "* Parameter__ (population): (fixed) number describing some characteristic of the population (usually unknown). \n",
    "* Sample__: subset of the population.\n",
    "* __Statistic__ (sampling): number that is calculated from the data of a sample.\n",
    "\n",
    "<img src=\"img/teoria_estadistica.png\" align=\"center\">"
   ]
  },
  {
   "cell_type": "markdown",
   "metadata": {},
   "source": [
    "### Random sampling\n",
    "\n",
    "Simple random sampling gives each element of the target population (and thus each possible sample of a given size) the same probability of being selected.\n",
    "\n",
    "Sampling can be performed with replacement or without replacement.\n",
    "Since it is sometimes complicated to perform simple random sampling, there are other mechanisms to select the sample, such as stratified sampling,\n",
    "\n",
    "Stratified sampling is a sampling procedure in which the target population is separated into exclusive and homogeneous segments (strata), and then a simple random sample is selected from each segment (stratum).\n"
   ]
  },
  {
   "cell_type": "markdown",
   "metadata": {},
   "source": [
    "### Sampling distribution\n",
    "\n",
    "The __sampling distribution__ is the distribution of a statistic.\n",
    "\n",
    "<img src=\"img/distribuicion_muestral.png\"  width=400 height=400 align=\"center\">"
   ]
  },
  {
   "cell_type": "markdown",
   "metadata": {},
   "source": [
    "### Sampling in the era of Big Data\n",
    "\n",
    "A common mistake is to consider that in the era of Big Data sampling is no longer needed, when, in fact, the proliferation of data of different qualities and relevance reinforces the need for sampling as a tool to work efficiently.\n",
    "The use of sampling appears in:\n",
    "1. development of predictive models.\n",
    "Tests of various types: treatments, websites, advertisements, ...\n"
   ]
  },
  {
   "cell_type": "markdown",
   "metadata": {},
   "source": [
    "---"
   ]
  },
  {
   "cell_type": "markdown",
   "metadata": {},
   "source": [
    "### Quantity vs. Quality\n",
    "\n",
    "Data quality matters more than quantity when creating an estimate or model based on a sample.\n",
    "\n",
    "Data quality in Data Science implies completeness, consistency of format, cleanliness, and accuracy of each piece of data.   Statistics adds the notion of representativeness.\n",
    "\n",
    "__Example:__\n",
    "\n",
    "The 1936 Literary Digest poll that predicted Al Landon's victory over Franklin Roosevelt (Roosevelt won the election with 60% of the vote, winning 46 of the 48 states).\n",
    "\n",
    "Literary Digest: 10 million respondents, which indicated that Landon would win.\n",
    "\n",
    "Gallup Poll: bi-weekly polls with 2000 respondents, predicted Roosevelt's victory.\n"
   ]
  },
  {
   "cell_type": "markdown",
   "metadata": {},
   "source": [
    "---"
   ]
  },
  {
   "cell_type": "markdown",
   "metadata": {},
   "source": [
    "### Sampling bias (Bias)\n",
    "\n",
    "Sampling bias is a non-random distortion of the sample with respect to the population it is trying to represent.\n",
    "\n",
    "That it is nonrandom is important.   Almost never will a sample, including a simple random sample, be exactly representative of the population.\n",
    "\n",
    "If sampling bias exists, it is expected that, if samples continue to be chosen in the same way, the distortion will remain.\n",
    "\n",
    "Example:__Example:__\n",
    "In the case of the surveys, the problem with Literary Digest was that it had a sampling bias toward people with a high socio-economic status, since they were either its own subscribers or people who owned luxury items such as telephones or automobiles and were listed as sellers.\n"
   ]
  },
  {
   "cell_type": "markdown",
   "metadata": {},
   "source": [
    "---"
   ]
  },
  {
   "cell_type": "markdown",
   "metadata": {},
   "source": [
    "### Self-selection bias\n",
    "\n",
    "Reviews of restaurants, hotels, cafes, etc. that can be read on social networking sites such as Tripadvisor are prone to bias because the people who post them are not randomly selected, but have taken the initiative to write themselves.\n",
    "\n",
    "This leads to self-selection bias: the people motivated to write reviews may be those who have had worse experiences, may be related to the establishment, or may simply be a different type of person than those who do not write reviews.\n",
    "\n",
    "Note: although they may be unreliable indicators of the true state of affairs, they may be more reliable if used to compare several establishments, as the same self-selection bias could apply to each of them.\n"
   ]
  },
  {
   "cell_type": "markdown",
   "metadata": {},
   "source": [
    "---"
   ]
  },
  {
   "cell_type": "markdown",
   "metadata": {},
   "source": [
    "### Notation: parameters and statistics\n",
    "\n",
    "Normally Greek letters are used for parameters and lowercase Latin letters for statistics.\n",
    "\n",
    "__Some examples:__\n",
    "\n",
    "\n",
    "<img src=\"img/notacion.png\"  width=400 height=400 align=\"center\">"
   ]
  },
  {
   "cell_type": "markdown",
   "metadata": {},
   "source": [
    "### Two important theorems:\n",
    "\n",
    "There are two theorems that have importance in relation to the sampling distribution:\n",
    "* The Law of Large Numbers\n",
    "* The Central Limit Theorem"
   ]
  },
  {
   "cell_type": "markdown",
   "metadata": {},
   "source": [
    "#### Law of Large Numbers\n",
    "\n",
    "The law of large numbers tells us (in this context) that, if we choose the appropriate statistic to estimate a parameter, as the sample size increases the statistic approaches the value of the parameter.\n",
    "\n",
    "In particular, the sample mean is an appropriate statistic to estimate the (population) mean and therefore the Law of Large Numbers states that as the sample size increases the value of the sample mean approaches the value of the (population) mean.\n",
    "\n",
    "__Let's watch a video:__ https://www.youtube.com/watch?v=WStvUGaGXrY&t=15s"
   ]
  },
  {
   "cell_type": "code",
   "execution_count": 9,
   "metadata": {},
   "outputs": [],
   "source": [
    "import numpy as np\n",
    "import matplotlib.pyplot as plt"
   ]
  },
  {
   "cell_type": "code",
   "execution_count": 10,
   "metadata": {},
   "outputs": [
    {
     "data": {
      "image/png": "[encoded data removed]",
      "text/plain": [
       "<Figure size 432x288 with 1 Axes>"
      ]
     },
     "metadata": {
      "needs_background": "light"
     },
     "output_type": "display_data"
    }
   ],
   "source": [
    "data_100 = np.random.randint(6, size=(100))+1\n",
    "hist, bins = np.histogram(data_100, bins=6)\n",
    "plt.hist(data_100, 50)\n",
    "plt.show()"
   ]
  },
  {
   "cell_type": "code",
   "execution_count": 11,
   "metadata": {},
   "outputs": [
    {
     "data": {
      "image/png": "[encoded data removed]",
      "text/plain": [
       "<Figure size 432x288 with 1 Axes>"
      ]
     },
     "metadata": {
      "needs_background": "light"
     },
     "output_type": "display_data"
    }
   ],
   "source": [
    "data_1000 = np.random.randint(6, size=(1000))+1\n",
    "hist, bins = np.histogram(data_1000, bins=6)\n",
    "plt.hist(data_1000, 50)\n",
    "plt.show()"
   ]
  },
  {
   "cell_type": "code",
   "execution_count": 12,
   "metadata": {},
   "outputs": [
    {
     "data": {
      "image/png": "[encoded data removed]",
      "text/plain": [
       "<Figure size 432x288 with 1 Axes>"
      ]
     },
     "metadata": {
      "needs_background": "light"
     },
     "output_type": "display_data"
    }
   ],
   "source": [
    "data_10000 = np.random.randint(6, size=(10000))+1\n",
    "hist, bins = np.histogram(data_10000, bins=6)\n",
    "plt.hist(data_10000, 50)\n",
    "plt.show()"
   ]
  },
  {
   "cell_type": "code",
   "execution_count": 13,
   "metadata": {},
   "outputs": [
    {
     "data": {
      "image/png": "[encoded data removed]",
      "text/plain": [
       "<Figure size 432x288 with 1 Axes>"
      ]
     },
     "metadata": {
      "needs_background": "light"
     },
     "output_type": "display_data"
    }
   ],
   "source": [
    "data_100000 = np.random.randint(6, size=(100000))+1\n",
    "hist, bins = np.histogram(data_100000, bins=6)\n",
    "plt.hist(data_100000, 50)\n",
    "plt.show()"
   ]
  },
  {
   "cell_type": "markdown",
   "metadata": {},
   "source": [
    "---"
   ]
  },
  {
   "cell_type": "markdown",
   "metadata": {},
   "source": [
    "#### Central Limit Theorem\n",
    "\n",
    "The Central Limit Theorem states (in this context) that if the sample size (n) is sufficiently large then the sampling distribution of the mean approximates a normal distribution.\n",
    "\n",
    "__Let's watch another video:__ https://www.youtube.com/watch?v=b5xQmk9veZ4\n",
    "\n",
    "<img src=\"img/teoria_central_limite.png\"  width=400 height=400 align=\"center\">\n",
    "\n"
   ]
  },
  {
   "cell_type": "code",
   "execution_count": 14,
   "metadata": {},
   "outputs": [
    {
     "data": {
      "text/plain": [
       "3.37"
      ]
     },
     "execution_count": 14,
     "metadata": {},
     "output_type": "execute_result"
    }
   ],
   "source": [
    "data_100.mean()"
   ]
  },
  {
   "cell_type": "code",
   "execution_count": 15,
   "metadata": {},
   "outputs": [
    {
     "data": {
      "text/plain": [
       "3.473"
      ]
     },
     "execution_count": 15,
     "metadata": {},
     "output_type": "execute_result"
    }
   ],
   "source": [
    "data_1000.mean()"
   ]
  },
  {
   "cell_type": "code",
   "execution_count": 16,
   "metadata": {},
   "outputs": [
    {
     "data": {
      "text/plain": [
       "3.4924"
      ]
     },
     "execution_count": 16,
     "metadata": {},
     "output_type": "execute_result"
    }
   ],
   "source": [
    "data_10000.mean()"
   ]
  },
  {
   "cell_type": "code",
   "execution_count": 17,
   "metadata": {},
   "outputs": [
    {
     "data": {
      "text/plain": [
       "3.49542"
      ]
     },
     "execution_count": 17,
     "metadata": {},
     "output_type": "execute_result"
    }
   ],
   "source": [
    "data_100000.mean()"
   ]
  },
  {
   "cell_type": "markdown",
   "metadata": {},
   "source": [
    "\n",
    "The Central Limit Theorem can be applied to the following statistics:\n",
    "\n",
    "* Sample mean (x)::\n",
    "\\begin{equation*}\n",
    "\\overline{x}\n",
    "\\end{equation*}\n",
    "\n",
    "* Sample proportion:\n",
    "\\begin{equation*}\n",
    "p\n",
    "\\end{equation*}\n",
    "* Difference of sample means: \n",
    "\\begin{equation*}\n",
    "\\overline{x_1} - \\overline{x_2}\n",
    "\\end{equation*}\n",
    "\n",
    "\n",
    "* Difference of sample proportions: \n",
    "\\begin{equation*}\n",
    "p_1 - p_2\n",
    "\\end{equation*}\n"
   ]
  },
  {
   "cell_type": "markdown",
   "metadata": {},
   "source": [
    "#### Drawbacks of the Central Limit Theorem\n",
    "\n",
    "What is a sufficiently large sample size(n)?   In many applications n = 30 is usually considered large enough, but it depends on the original distribution (e.g., how symmetric it is).\n",
    "\n",
    "It does not apply to statistics such as variance(s), correlation coefficient, or maximum/minimum.\n"
   ]
  },
  {
   "cell_type": "markdown",
   "metadata": {},
   "source": [
    "---"
   ]
  },
  {
   "cell_type": "markdown",
   "metadata": {},
   "source": [
    "### Bootstrapping\n",
    "\n",
    "An easy and effective way to estimate the sampling distribution of a statistic is to take additional samples, with replacements, from one's own sample and recalculate the statistic for each resampling. This process is called bootstrapping.\n",
    "\n",
    "\n",
    "<img src=\"img/bootstraping.png\"  width=400 height=400 align=\"center\">\n"
   ]
  },
  {
   "cell_type": "markdown",
   "metadata": {},
   "source": [
    "In contrast to methods based on the central limit theorem, we do not need to assume anything about the data or the normality of the distribution of the statistic.\n",
    "\n",
    "Devised by Bradley Efron.\n",
    "\n",
    "\n",
    "\n",
    "__we will watch a video on Bootstrapping__: https://www.youtube.com/watch?v=PmKOOGVRsmc"
   ]
  },
  {
   "cell_type": "markdown",
   "metadata": {},
   "source": [
    "---"
   ]
  },
  {
   "cell_type": "markdown",
   "metadata": {},
   "source": [
    "It is a fundamental part of machine learning algorithms such as Random Forest or Stochastic Gradient Boosting.\n",
    "\n",
    "Now let's watch a video about Random Forest: https://www.youtube.com/watch?v=1k9ax6YKfDw\n"
   ]
  },
  {
   "cell_type": "markdown",
   "metadata": {},
   "source": [
    "---"
   ]
  },
  {
   "cell_type": "markdown",
   "metadata": {},
   "source": [
    "__Recapping__\n",
    "\n",
    "Bootstrapping allows us to estimate the variability of the statistic, using a single sample.\n",
    "It turns out that the process of resampling the original sample is an excellent approximation of the process of sampling from a population.\n"
   ]
  },
  {
   "cell_type": "markdown",
   "metadata": {},
   "source": [
    "---"
   ]
  }
 ],
 "metadata": {
  "kernelspec": {
   "display_name": "Python 3 (ipykernel)",
   "language": "python",
   "name": "python3"
  },
  "language_info": {
   "codemirror_mode": {
    "name": "ipython",
    "version": 3
   },
   "file_extension": ".py",
   "mimetype": "text/x-python",
   "name": "python",
   "nbconvert_exporter": "python",
   "pygments_lexer": "ipython3",
   "version": "3.9.13"
  }
 },
 "nbformat": 4,
 "nbformat_minor": 2
}
